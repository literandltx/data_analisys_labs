{
 "cells": [
  {
   "cell_type": "code",
   "execution_count": null,
   "id": "76824bea-8f5a-4600-8ff1-9cad22c8e49c",
   "metadata": {},
   "outputs": [],
   "source": [
    "!pip install pandas numpy scikit-learn matplotlib tensorflow"
   ]
  },
  {
   "cell_type": "markdown",
   "id": "e82d9f84-5825-4c95-92d5-49935e7869fa",
   "metadata": {},
   "source": [
    "### Add inports"
   ]
  },
  {
   "cell_type": "code",
   "execution_count": 6,
   "id": "e29e9294-32eb-4c5f-b6c0-09241c7192a3",
   "metadata": {},
   "outputs": [],
   "source": [
    "import pandas as pd\n",
    "import numpy as np\n",
    "from sklearn.model_selection import train_test_split\n",
    "import matplotlib.pyplot as plt\n",
    "\n",
    "from ucimlrepo import fetch_ucirepo \n"
   ]
  },
  {
   "cell_type": "markdown",
   "id": "2b439f14-8a8c-42c5-8916-181b39dddc2c",
   "metadata": {},
   "source": [
    "### Fetch dataset"
   ]
  },
  {
   "cell_type": "code",
   "execution_count": 7,
   "id": "9ebb66c9-6b80-499a-8c16-c3d552440c72",
   "metadata": {},
   "outputs": [
    {
     "name": "stdout",
     "output_type": "stream",
     "text": [
      "dataset fetched\n"
     ]
    }
   ],
   "source": [
    "occupancy_detection = fetch_ucirepo(id=193) \n",
    "\n",
    "X = occupancy_detection.data.features\n",
    "y = occupancy_detection.data.targets\n",
    "\n",
    "df = pd.concat([X, y], axis=1)\n",
    "print(\"dataset fetched\")"
   ]
  },
  {
   "cell_type": "markdown",
   "id": "bb4e99a1-69fd-4f6f-8b44-08d219d8f422",
   "metadata": {},
   "source": [
    "### Dataset overview"
   ]
  },
  {
   "cell_type": "code",
   "execution_count": null,
   "id": "6f2fa20b-9a99-48d2-83df-3f201745aba5",
   "metadata": {},
   "outputs": [],
   "source": [
    "print(df.isnull().mean())\n",
    "df = df.dropna()\n",
    "df.info()\n",
    "df.shape\n",
    "df.head(15)\n",
    "df.describe()"
   ]
  },
  {
   "cell_type": "markdown",
   "id": "a00ff8dd-6aa5-4d59-bf2e-653f86ae185e",
   "metadata": {},
   "source": [
    "### Cleanup dataset"
   ]
  },
  {
   "cell_type": "code",
   "execution_count": 9,
   "id": "8a87c6ae-1e30-4172-8e02-9d9ea1105d81",
   "metadata": {},
   "outputs": [],
   "source": [
    "df = df[[\n",
    "    'LB', \n",
    "    'AC', 'FM', 'UC', 'DL', \n",
    "    'DS',\n",
    "    'DP', \n",
    "    'ASTV',\n",
    "    'MSTV',\n",
    "    'ALTV',\n",
    "    'MLTV', \n",
    "    'Width', \n",
    "    # 'Min', 'Max',\n",
    "    # 'Nmax', \n",
    "    # 'Nzeros',\n",
    "    # 'Mode', 'Mean',\n",
    "    # 'Median', 'Variance', \n",
    "    # 'Tendency', \n",
    "    'CLASS', \n",
    "    'NSP'\n",
    "]]"
   ]
  },
  {
   "cell_type": "code",
   "execution_count": null,
   "id": "dcd5eb25-825d-43b8-a4c2-5201abd97f8c",
   "metadata": {},
   "outputs": [],
   "source": []
  },
  {
   "cell_type": "code",
   "execution_count": null,
   "id": "d61b39e1-7164-49e4-aac9-a1a054b73611",
   "metadata": {},
   "outputs": [],
   "source": []
  }
 ],
 "metadata": {
  "kernelspec": {
   "display_name": "Python 3 (ipykernel)",
   "language": "python",
   "name": "python3"
  },
  "language_info": {
   "codemirror_mode": {
    "name": "ipython",
    "version": 3
   },
   "file_extension": ".py",
   "mimetype": "text/x-python",
   "name": "python",
   "nbconvert_exporter": "python",
   "pygments_lexer": "ipython3",
   "version": "3.10.12"
  }
 },
 "nbformat": 4,
 "nbformat_minor": 5
}
