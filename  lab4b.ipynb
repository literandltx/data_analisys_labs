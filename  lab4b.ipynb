{
 "cells": [
  {
   "cell_type": "code",
   "execution_count": null,
   "id": "fdd33e4a-4206-4184-bcfc-b4b07ce0047b",
   "metadata": {},
   "outputs": [],
   "source": [
    "!pip3 install tensorflow\n",
    "!pip3 install transformers"
   ]
  },
  {
   "cell_type": "code",
   "execution_count": null,
   "id": "c9496217-685b-4801-8ac1-90c3ed9fe488",
   "metadata": {},
   "outputs": [],
   "source": [
    "!pip3 install tf-keras"
   ]
  },
  {
   "cell_type": "code",
   "execution_count": 37,
   "id": "c067fb89-9c13-4ff7-bc4e-1357d8e71185",
   "metadata": {
    "collapsed": true,
    "jupyter": {
     "outputs_hidden": true
    }
   },
   "outputs": [
    {
     "name": "stdout",
     "output_type": "stream",
     "text": [
      "Requirement already satisfied: ipywidgets in /opt/anaconda3/lib/python3.12/site-packages (7.8.1)\n",
      "Requirement already satisfied: comm>=0.1.3 in /opt/anaconda3/lib/python3.12/site-packages (from ipywidgets) (0.2.1)\n",
      "Requirement already satisfied: ipython-genutils~=0.2.0 in /opt/anaconda3/lib/python3.12/site-packages (from ipywidgets) (0.2.0)\n",
      "Requirement already satisfied: traitlets>=4.3.1 in /opt/anaconda3/lib/python3.12/site-packages (from ipywidgets) (5.14.3)\n",
      "Requirement already satisfied: widgetsnbextension~=3.6.6 in /opt/anaconda3/lib/python3.12/site-packages (from ipywidgets) (3.6.6)\n",
      "Requirement already satisfied: ipython>=4.0.0 in /opt/anaconda3/lib/python3.12/site-packages (from ipywidgets) (8.27.0)\n",
      "Requirement already satisfied: jupyterlab-widgets<3,>=1.0.0 in /opt/anaconda3/lib/python3.12/site-packages (from ipywidgets) (1.0.0)\n",
      "Requirement already satisfied: decorator in /opt/anaconda3/lib/python3.12/site-packages (from ipython>=4.0.0->ipywidgets) (5.1.1)\n",
      "Requirement already satisfied: jedi>=0.16 in /opt/anaconda3/lib/python3.12/site-packages (from ipython>=4.0.0->ipywidgets) (0.19.1)\n",
      "Requirement already satisfied: matplotlib-inline in /opt/anaconda3/lib/python3.12/site-packages (from ipython>=4.0.0->ipywidgets) (0.1.6)\n",
      "Requirement already satisfied: prompt-toolkit<3.1.0,>=3.0.41 in /opt/anaconda3/lib/python3.12/site-packages (from ipython>=4.0.0->ipywidgets) (3.0.43)\n",
      "Requirement already satisfied: pygments>=2.4.0 in /opt/anaconda3/lib/python3.12/site-packages (from ipython>=4.0.0->ipywidgets) (2.15.1)\n",
      "Requirement already satisfied: stack-data in /opt/anaconda3/lib/python3.12/site-packages (from ipython>=4.0.0->ipywidgets) (0.2.0)\n",
      "Requirement already satisfied: pexpect>4.3 in /opt/anaconda3/lib/python3.12/site-packages (from ipython>=4.0.0->ipywidgets) (4.8.0)\n",
      "Requirement already satisfied: notebook>=4.4.1 in /opt/anaconda3/lib/python3.12/site-packages (from widgetsnbextension~=3.6.6->ipywidgets) (7.2.2)\n",
      "Requirement already satisfied: parso<0.9.0,>=0.8.3 in /opt/anaconda3/lib/python3.12/site-packages (from jedi>=0.16->ipython>=4.0.0->ipywidgets) (0.8.3)\n",
      "Requirement already satisfied: jupyter-server<3,>=2.4.0 in /opt/anaconda3/lib/python3.12/site-packages (from notebook>=4.4.1->widgetsnbextension~=3.6.6->ipywidgets) (2.14.1)\n",
      "Requirement already satisfied: jupyterlab-server<3,>=2.27.1 in /opt/anaconda3/lib/python3.12/site-packages (from notebook>=4.4.1->widgetsnbextension~=3.6.6->ipywidgets) (2.27.3)\n",
      "Requirement already satisfied: jupyterlab<4.3,>=4.2.0 in /opt/anaconda3/lib/python3.12/site-packages (from notebook>=4.4.1->widgetsnbextension~=3.6.6->ipywidgets) (4.2.5)\n",
      "Requirement already satisfied: notebook-shim<0.3,>=0.2 in /opt/anaconda3/lib/python3.12/site-packages (from notebook>=4.4.1->widgetsnbextension~=3.6.6->ipywidgets) (0.2.3)\n",
      "Requirement already satisfied: tornado>=6.2.0 in /opt/anaconda3/lib/python3.12/site-packages (from notebook>=4.4.1->widgetsnbextension~=3.6.6->ipywidgets) (6.4.1)\n",
      "Requirement already satisfied: ptyprocess>=0.5 in /opt/anaconda3/lib/python3.12/site-packages (from pexpect>4.3->ipython>=4.0.0->ipywidgets) (0.7.0)\n",
      "Requirement already satisfied: wcwidth in /opt/anaconda3/lib/python3.12/site-packages (from prompt-toolkit<3.1.0,>=3.0.41->ipython>=4.0.0->ipywidgets) (0.2.5)\n",
      "Requirement already satisfied: executing in /opt/anaconda3/lib/python3.12/site-packages (from stack-data->ipython>=4.0.0->ipywidgets) (0.8.3)\n",
      "Requirement already satisfied: asttokens in /opt/anaconda3/lib/python3.12/site-packages (from stack-data->ipython>=4.0.0->ipywidgets) (2.0.5)\n",
      "Requirement already satisfied: pure-eval in /opt/anaconda3/lib/python3.12/site-packages (from stack-data->ipython>=4.0.0->ipywidgets) (0.2.2)\n",
      "Requirement already satisfied: anyio>=3.1.0 in /opt/anaconda3/lib/python3.12/site-packages (from jupyter-server<3,>=2.4.0->notebook>=4.4.1->widgetsnbextension~=3.6.6->ipywidgets) (4.2.0)\n",
      "Requirement already satisfied: argon2-cffi>=21.1 in /opt/anaconda3/lib/python3.12/site-packages (from jupyter-server<3,>=2.4.0->notebook>=4.4.1->widgetsnbextension~=3.6.6->ipywidgets) (21.3.0)\n",
      "Requirement already satisfied: jinja2>=3.0.3 in /opt/anaconda3/lib/python3.12/site-packages (from jupyter-server<3,>=2.4.0->notebook>=4.4.1->widgetsnbextension~=3.6.6->ipywidgets) (3.1.4)\n",
      "Requirement already satisfied: jupyter-client>=7.4.4 in /opt/anaconda3/lib/python3.12/site-packages (from jupyter-server<3,>=2.4.0->notebook>=4.4.1->widgetsnbextension~=3.6.6->ipywidgets) (8.6.0)\n",
      "Requirement already satisfied: jupyter-core!=5.0.*,>=4.12 in /opt/anaconda3/lib/python3.12/site-packages (from jupyter-server<3,>=2.4.0->notebook>=4.4.1->widgetsnbextension~=3.6.6->ipywidgets) (5.7.2)\n",
      "Requirement already satisfied: jupyter-events>=0.9.0 in /opt/anaconda3/lib/python3.12/site-packages (from jupyter-server<3,>=2.4.0->notebook>=4.4.1->widgetsnbextension~=3.6.6->ipywidgets) (0.10.0)\n",
      "Requirement already satisfied: jupyter-server-terminals>=0.4.4 in /opt/anaconda3/lib/python3.12/site-packages (from jupyter-server<3,>=2.4.0->notebook>=4.4.1->widgetsnbextension~=3.6.6->ipywidgets) (0.4.4)\n",
      "Requirement already satisfied: nbconvert>=6.4.4 in /opt/anaconda3/lib/python3.12/site-packages (from jupyter-server<3,>=2.4.0->notebook>=4.4.1->widgetsnbextension~=3.6.6->ipywidgets) (7.16.4)\n",
      "Requirement already satisfied: nbformat>=5.3.0 in /opt/anaconda3/lib/python3.12/site-packages (from jupyter-server<3,>=2.4.0->notebook>=4.4.1->widgetsnbextension~=3.6.6->ipywidgets) (5.10.4)\n",
      "Requirement already satisfied: overrides>=5.0 in /opt/anaconda3/lib/python3.12/site-packages (from jupyter-server<3,>=2.4.0->notebook>=4.4.1->widgetsnbextension~=3.6.6->ipywidgets) (7.4.0)\n",
      "Requirement already satisfied: packaging>=22.0 in /opt/anaconda3/lib/python3.12/site-packages (from jupyter-server<3,>=2.4.0->notebook>=4.4.1->widgetsnbextension~=3.6.6->ipywidgets) (24.1)\n",
      "Requirement already satisfied: prometheus-client>=0.9 in /opt/anaconda3/lib/python3.12/site-packages (from jupyter-server<3,>=2.4.0->notebook>=4.4.1->widgetsnbextension~=3.6.6->ipywidgets) (0.14.1)\n",
      "Requirement already satisfied: pyzmq>=24 in /opt/anaconda3/lib/python3.12/site-packages (from jupyter-server<3,>=2.4.0->notebook>=4.4.1->widgetsnbextension~=3.6.6->ipywidgets) (25.1.2)\n",
      "Requirement already satisfied: send2trash>=1.8.2 in /opt/anaconda3/lib/python3.12/site-packages (from jupyter-server<3,>=2.4.0->notebook>=4.4.1->widgetsnbextension~=3.6.6->ipywidgets) (1.8.2)\n",
      "Requirement already satisfied: terminado>=0.8.3 in /opt/anaconda3/lib/python3.12/site-packages (from jupyter-server<3,>=2.4.0->notebook>=4.4.1->widgetsnbextension~=3.6.6->ipywidgets) (0.17.1)\n",
      "Requirement already satisfied: websocket-client>=1.7 in /opt/anaconda3/lib/python3.12/site-packages (from jupyter-server<3,>=2.4.0->notebook>=4.4.1->widgetsnbextension~=3.6.6->ipywidgets) (1.8.0)\n",
      "Requirement already satisfied: async-lru>=1.0.0 in /opt/anaconda3/lib/python3.12/site-packages (from jupyterlab<4.3,>=4.2.0->notebook>=4.4.1->widgetsnbextension~=3.6.6->ipywidgets) (2.0.4)\n",
      "Requirement already satisfied: httpx>=0.25.0 in /opt/anaconda3/lib/python3.12/site-packages (from jupyterlab<4.3,>=4.2.0->notebook>=4.4.1->widgetsnbextension~=3.6.6->ipywidgets) (0.27.0)\n",
      "Requirement already satisfied: ipykernel>=6.5.0 in /opt/anaconda3/lib/python3.12/site-packages (from jupyterlab<4.3,>=4.2.0->notebook>=4.4.1->widgetsnbextension~=3.6.6->ipywidgets) (6.28.0)\n",
      "Requirement already satisfied: jupyter-lsp>=2.0.0 in /opt/anaconda3/lib/python3.12/site-packages (from jupyterlab<4.3,>=4.2.0->notebook>=4.4.1->widgetsnbextension~=3.6.6->ipywidgets) (2.2.0)\n",
      "Requirement already satisfied: setuptools>=40.1.0 in /opt/anaconda3/lib/python3.12/site-packages (from jupyterlab<4.3,>=4.2.0->notebook>=4.4.1->widgetsnbextension~=3.6.6->ipywidgets) (75.1.0)\n",
      "Requirement already satisfied: babel>=2.10 in /opt/anaconda3/lib/python3.12/site-packages (from jupyterlab-server<3,>=2.27.1->notebook>=4.4.1->widgetsnbextension~=3.6.6->ipywidgets) (2.11.0)\n",
      "Requirement already satisfied: json5>=0.9.0 in /opt/anaconda3/lib/python3.12/site-packages (from jupyterlab-server<3,>=2.27.1->notebook>=4.4.1->widgetsnbextension~=3.6.6->ipywidgets) (0.9.6)\n",
      "Requirement already satisfied: jsonschema>=4.18.0 in /opt/anaconda3/lib/python3.12/site-packages (from jupyterlab-server<3,>=2.27.1->notebook>=4.4.1->widgetsnbextension~=3.6.6->ipywidgets) (4.23.0)\n",
      "Requirement already satisfied: requests>=2.31 in /opt/anaconda3/lib/python3.12/site-packages (from jupyterlab-server<3,>=2.27.1->notebook>=4.4.1->widgetsnbextension~=3.6.6->ipywidgets) (2.32.3)\n",
      "Requirement already satisfied: six in /opt/anaconda3/lib/python3.12/site-packages (from asttokens->stack-data->ipython>=4.0.0->ipywidgets) (1.16.0)\n",
      "Requirement already satisfied: idna>=2.8 in /opt/anaconda3/lib/python3.12/site-packages (from anyio>=3.1.0->jupyter-server<3,>=2.4.0->notebook>=4.4.1->widgetsnbextension~=3.6.6->ipywidgets) (3.7)\n",
      "Requirement already satisfied: sniffio>=1.1 in /opt/anaconda3/lib/python3.12/site-packages (from anyio>=3.1.0->jupyter-server<3,>=2.4.0->notebook>=4.4.1->widgetsnbextension~=3.6.6->ipywidgets) (1.3.0)\n",
      "Requirement already satisfied: argon2-cffi-bindings in /opt/anaconda3/lib/python3.12/site-packages (from argon2-cffi>=21.1->jupyter-server<3,>=2.4.0->notebook>=4.4.1->widgetsnbextension~=3.6.6->ipywidgets) (21.2.0)\n",
      "Requirement already satisfied: pytz>=2015.7 in /opt/anaconda3/lib/python3.12/site-packages (from babel>=2.10->jupyterlab-server<3,>=2.27.1->notebook>=4.4.1->widgetsnbextension~=3.6.6->ipywidgets) (2024.1)\n",
      "Requirement already satisfied: certifi in /opt/anaconda3/lib/python3.12/site-packages (from httpx>=0.25.0->jupyterlab<4.3,>=4.2.0->notebook>=4.4.1->widgetsnbextension~=3.6.6->ipywidgets) (2024.12.14)\n",
      "Requirement already satisfied: httpcore==1.* in /opt/anaconda3/lib/python3.12/site-packages (from httpx>=0.25.0->jupyterlab<4.3,>=4.2.0->notebook>=4.4.1->widgetsnbextension~=3.6.6->ipywidgets) (1.0.2)\n",
      "Requirement already satisfied: h11<0.15,>=0.13 in /opt/anaconda3/lib/python3.12/site-packages (from httpcore==1.*->httpx>=0.25.0->jupyterlab<4.3,>=4.2.0->notebook>=4.4.1->widgetsnbextension~=3.6.6->ipywidgets) (0.14.0)\n",
      "Requirement already satisfied: appnope in /opt/anaconda3/lib/python3.12/site-packages (from ipykernel>=6.5.0->jupyterlab<4.3,>=4.2.0->notebook>=4.4.1->widgetsnbextension~=3.6.6->ipywidgets) (0.1.3)\n",
      "Requirement already satisfied: debugpy>=1.6.5 in /opt/anaconda3/lib/python3.12/site-packages (from ipykernel>=6.5.0->jupyterlab<4.3,>=4.2.0->notebook>=4.4.1->widgetsnbextension~=3.6.6->ipywidgets) (1.6.7)\n",
      "Requirement already satisfied: nest-asyncio in /opt/anaconda3/lib/python3.12/site-packages (from ipykernel>=6.5.0->jupyterlab<4.3,>=4.2.0->notebook>=4.4.1->widgetsnbextension~=3.6.6->ipywidgets) (1.6.0)\n",
      "Requirement already satisfied: psutil in /opt/anaconda3/lib/python3.12/site-packages (from ipykernel>=6.5.0->jupyterlab<4.3,>=4.2.0->notebook>=4.4.1->widgetsnbextension~=3.6.6->ipywidgets) (5.9.0)\n",
      "Requirement already satisfied: MarkupSafe>=2.0 in /opt/anaconda3/lib/python3.12/site-packages (from jinja2>=3.0.3->jupyter-server<3,>=2.4.0->notebook>=4.4.1->widgetsnbextension~=3.6.6->ipywidgets) (2.1.3)\n",
      "Requirement already satisfied: attrs>=22.2.0 in /opt/anaconda3/lib/python3.12/site-packages (from jsonschema>=4.18.0->jupyterlab-server<3,>=2.27.1->notebook>=4.4.1->widgetsnbextension~=3.6.6->ipywidgets) (23.1.0)\n",
      "Requirement already satisfied: jsonschema-specifications>=2023.03.6 in /opt/anaconda3/lib/python3.12/site-packages (from jsonschema>=4.18.0->jupyterlab-server<3,>=2.27.1->notebook>=4.4.1->widgetsnbextension~=3.6.6->ipywidgets) (2023.7.1)\n",
      "Requirement already satisfied: referencing>=0.28.4 in /opt/anaconda3/lib/python3.12/site-packages (from jsonschema>=4.18.0->jupyterlab-server<3,>=2.27.1->notebook>=4.4.1->widgetsnbextension~=3.6.6->ipywidgets) (0.30.2)\n",
      "Requirement already satisfied: rpds-py>=0.7.1 in /opt/anaconda3/lib/python3.12/site-packages (from jsonschema>=4.18.0->jupyterlab-server<3,>=2.27.1->notebook>=4.4.1->widgetsnbextension~=3.6.6->ipywidgets) (0.10.6)\n",
      "Requirement already satisfied: python-dateutil>=2.8.2 in /opt/anaconda3/lib/python3.12/site-packages (from jupyter-client>=7.4.4->jupyter-server<3,>=2.4.0->notebook>=4.4.1->widgetsnbextension~=3.6.6->ipywidgets) (2.9.0.post0)\n",
      "Requirement already satisfied: platformdirs>=2.5 in /opt/anaconda3/lib/python3.12/site-packages (from jupyter-core!=5.0.*,>=4.12->jupyter-server<3,>=2.4.0->notebook>=4.4.1->widgetsnbextension~=3.6.6->ipywidgets) (3.10.0)\n",
      "Requirement already satisfied: python-json-logger>=2.0.4 in /opt/anaconda3/lib/python3.12/site-packages (from jupyter-events>=0.9.0->jupyter-server<3,>=2.4.0->notebook>=4.4.1->widgetsnbextension~=3.6.6->ipywidgets) (2.0.7)\n",
      "Requirement already satisfied: pyyaml>=5.3 in /opt/anaconda3/lib/python3.12/site-packages (from jupyter-events>=0.9.0->jupyter-server<3,>=2.4.0->notebook>=4.4.1->widgetsnbextension~=3.6.6->ipywidgets) (6.0.1)\n",
      "Requirement already satisfied: rfc3339-validator in /opt/anaconda3/lib/python3.12/site-packages (from jupyter-events>=0.9.0->jupyter-server<3,>=2.4.0->notebook>=4.4.1->widgetsnbextension~=3.6.6->ipywidgets) (0.1.4)\n",
      "Requirement already satisfied: rfc3986-validator>=0.1.1 in /opt/anaconda3/lib/python3.12/site-packages (from jupyter-events>=0.9.0->jupyter-server<3,>=2.4.0->notebook>=4.4.1->widgetsnbextension~=3.6.6->ipywidgets) (0.1.1)\n",
      "Requirement already satisfied: beautifulsoup4 in /opt/anaconda3/lib/python3.12/site-packages (from nbconvert>=6.4.4->jupyter-server<3,>=2.4.0->notebook>=4.4.1->widgetsnbextension~=3.6.6->ipywidgets) (4.12.3)\n",
      "Requirement already satisfied: bleach!=5.0.0 in /opt/anaconda3/lib/python3.12/site-packages (from nbconvert>=6.4.4->jupyter-server<3,>=2.4.0->notebook>=4.4.1->widgetsnbextension~=3.6.6->ipywidgets) (4.1.0)\n",
      "Requirement already satisfied: defusedxml in /opt/anaconda3/lib/python3.12/site-packages (from nbconvert>=6.4.4->jupyter-server<3,>=2.4.0->notebook>=4.4.1->widgetsnbextension~=3.6.6->ipywidgets) (0.7.1)\n",
      "Requirement already satisfied: jupyterlab-pygments in /opt/anaconda3/lib/python3.12/site-packages (from nbconvert>=6.4.4->jupyter-server<3,>=2.4.0->notebook>=4.4.1->widgetsnbextension~=3.6.6->ipywidgets) (0.1.2)\n",
      "Requirement already satisfied: mistune<4,>=2.0.3 in /opt/anaconda3/lib/python3.12/site-packages (from nbconvert>=6.4.4->jupyter-server<3,>=2.4.0->notebook>=4.4.1->widgetsnbextension~=3.6.6->ipywidgets) (2.0.4)\n",
      "Requirement already satisfied: nbclient>=0.5.0 in /opt/anaconda3/lib/python3.12/site-packages (from nbconvert>=6.4.4->jupyter-server<3,>=2.4.0->notebook>=4.4.1->widgetsnbextension~=3.6.6->ipywidgets) (0.8.0)\n",
      "Requirement already satisfied: pandocfilters>=1.4.1 in /opt/anaconda3/lib/python3.12/site-packages (from nbconvert>=6.4.4->jupyter-server<3,>=2.4.0->notebook>=4.4.1->widgetsnbextension~=3.6.6->ipywidgets) (1.5.0)\n",
      "Requirement already satisfied: tinycss2 in /opt/anaconda3/lib/python3.12/site-packages (from nbconvert>=6.4.4->jupyter-server<3,>=2.4.0->notebook>=4.4.1->widgetsnbextension~=3.6.6->ipywidgets) (1.2.1)\n",
      "Requirement already satisfied: fastjsonschema>=2.15 in /opt/anaconda3/lib/python3.12/site-packages (from nbformat>=5.3.0->jupyter-server<3,>=2.4.0->notebook>=4.4.1->widgetsnbextension~=3.6.6->ipywidgets) (2.16.2)\n",
      "Requirement already satisfied: charset-normalizer<4,>=2 in /opt/anaconda3/lib/python3.12/site-packages (from requests>=2.31->jupyterlab-server<3,>=2.27.1->notebook>=4.4.1->widgetsnbextension~=3.6.6->ipywidgets) (3.3.2)\n",
      "Requirement already satisfied: urllib3<3,>=1.21.1 in /opt/anaconda3/lib/python3.12/site-packages (from requests>=2.31->jupyterlab-server<3,>=2.27.1->notebook>=4.4.1->widgetsnbextension~=3.6.6->ipywidgets) (2.2.3)\n",
      "Requirement already satisfied: webencodings in /opt/anaconda3/lib/python3.12/site-packages (from bleach!=5.0.0->nbconvert>=6.4.4->jupyter-server<3,>=2.4.0->notebook>=4.4.1->widgetsnbextension~=3.6.6->ipywidgets) (0.5.1)\n",
      "Requirement already satisfied: fqdn in /opt/anaconda3/lib/python3.12/site-packages (from jsonschema[format-nongpl]>=4.18.0->jupyter-events>=0.9.0->jupyter-server<3,>=2.4.0->notebook>=4.4.1->widgetsnbextension~=3.6.6->ipywidgets) (1.5.1)\n",
      "Requirement already satisfied: isoduration in /opt/anaconda3/lib/python3.12/site-packages (from jsonschema[format-nongpl]>=4.18.0->jupyter-events>=0.9.0->jupyter-server<3,>=2.4.0->notebook>=4.4.1->widgetsnbextension~=3.6.6->ipywidgets) (20.11.0)\n",
      "Requirement already satisfied: jsonpointer>1.13 in /opt/anaconda3/lib/python3.12/site-packages (from jsonschema[format-nongpl]>=4.18.0->jupyter-events>=0.9.0->jupyter-server<3,>=2.4.0->notebook>=4.4.1->widgetsnbextension~=3.6.6->ipywidgets) (2.1)\n",
      "Requirement already satisfied: uri-template in /opt/anaconda3/lib/python3.12/site-packages (from jsonschema[format-nongpl]>=4.18.0->jupyter-events>=0.9.0->jupyter-server<3,>=2.4.0->notebook>=4.4.1->widgetsnbextension~=3.6.6->ipywidgets) (1.3.0)\n",
      "Requirement already satisfied: webcolors>=24.6.0 in /opt/anaconda3/lib/python3.12/site-packages (from jsonschema[format-nongpl]>=4.18.0->jupyter-events>=0.9.0->jupyter-server<3,>=2.4.0->notebook>=4.4.1->widgetsnbextension~=3.6.6->ipywidgets) (24.11.1)\n",
      "Requirement already satisfied: cffi>=1.0.1 in /opt/anaconda3/lib/python3.12/site-packages (from argon2-cffi-bindings->argon2-cffi>=21.1->jupyter-server<3,>=2.4.0->notebook>=4.4.1->widgetsnbextension~=3.6.6->ipywidgets) (1.17.1)\n",
      "Requirement already satisfied: soupsieve>1.2 in /opt/anaconda3/lib/python3.12/site-packages (from beautifulsoup4->nbconvert>=6.4.4->jupyter-server<3,>=2.4.0->notebook>=4.4.1->widgetsnbextension~=3.6.6->ipywidgets) (2.5)\n",
      "Requirement already satisfied: pycparser in /opt/anaconda3/lib/python3.12/site-packages (from cffi>=1.0.1->argon2-cffi-bindings->argon2-cffi>=21.1->jupyter-server<3,>=2.4.0->notebook>=4.4.1->widgetsnbextension~=3.6.6->ipywidgets) (2.21)\n",
      "Requirement already satisfied: arrow>=0.15.0 in /opt/anaconda3/lib/python3.12/site-packages (from isoduration->jsonschema[format-nongpl]>=4.18.0->jupyter-events>=0.9.0->jupyter-server<3,>=2.4.0->notebook>=4.4.1->widgetsnbextension~=3.6.6->ipywidgets) (1.2.3)\n"
     ]
    }
   ],
   "source": [
    "!pip3 install ipywidgets"
   ]
  },
  {
   "cell_type": "code",
   "execution_count": 66,
   "id": "6530d2c1-4de8-4529-915e-a303d99c9f01",
   "metadata": {},
   "outputs": [
    {
     "name": "stdout",
     "output_type": "stream",
     "text": [
      "Requirement already satisfied: sentencepiece in /opt/anaconda3/lib/python3.12/site-packages (0.2.0)\n"
     ]
    }
   ],
   "source": [
    "!pip3 install sentencepiece"
   ]
  },
  {
   "cell_type": "code",
   "execution_count": 12,
   "id": "6dde4f4a-bfbd-452b-be73-773fbc081992",
   "metadata": {},
   "outputs": [],
   "source": [
    "from transformers import pipeline"
   ]
  },
  {
   "cell_type": "code",
   "execution_count": 14,
   "id": "8f7f956a-9597-4241-a0ed-86e8cbf385d6",
   "metadata": {},
   "outputs": [
    {
     "name": "stderr",
     "output_type": "stream",
     "text": [
      "Device set to use mps:0\n"
     ]
    },
    {
     "name": "stdout",
     "output_type": "stream",
     "text": [
      "{'label': '5 stars', 'score': 0.5798848867416382}\n",
      "{'label': '5 stars', 'score': 0.7936791777610779}\n",
      "{'label': '1 star', 'score': 0.5360967516899109}\n",
      "{'label': '2 stars', 'score': 0.50185626745224}\n",
      "{'label': '5 stars', 'score': 0.8828436136245728}\n",
      "{'label': '2 stars', 'score': 0.49511227011680603}\n",
      "{'label': '3 stars', 'score': 0.5718321204185486}\n",
      "{'label': '1 star', 'score': 0.5460641980171204}\n",
      "{'label': '5 stars', 'score': 0.778852105140686}\n",
      "{'label': '3 stars', 'score': 0.6256654262542725}\n"
     ]
    }
   ],
   "source": [
    "classifier = pipeline(\n",
    "    \"sentiment-analysis\",\n",
    "    model = \"nlptown/bert-base-multilingual-uncased-sentiment\",\n",
    "    tokenizer = \"nlptown/bert-base-multilingual-uncased-sentiment\",\n",
    "\tpadding = True,\n",
    "    truncation = True,\n",
    "    max_length = 32\n",
    ")\n",
    "\n",
    "reviews = [\n",
    "    \"Обслуговування на висоті! Персонал дуже привітний і уважний. Я одразу зрозумів, що тут працюють справжні професіонали. Магазин чистий і затишний, товари завжди в наявності. Обов'язково повернуся ще раз, адже таке обслуговування зустрічається не часто.\",\n",
    "    \"Чудовий магазин! Я був приємно здивований якістю обслуговування. Персонал не тільки допоміг вибрати потрібний товар, але й дав кілька корисних порад, як краще ним користуватися. Вибір товарів великий, ціни доступні, а атмосфера дуже комфортна. Рекомендую всім!\",\n",
    "    \"Магазин не відповідає моїм очікуванням. Хоча товар і був в наявності, персонал зовсім не допоміг у виборі, не запропонував альтернативи, навіть коли я задавав конкретні питання. Мене це дуже розчарувало, адже я очікував кращого сервісу за такі ціни. Не рекомендую цей магазин.\",\n",
    "    \"Враження змішані. Магазин не поганий, але й не вражає. Товари в наявності, але вибір не такий великий, як я очікував. Обслуговування було досить стандартним, ніяких додаткових порад чи рекомендацій. Не скажу, що це погано, але й нічого особливого.\",\n",
    "    \"Магазин просто чудовий! Тут можна знайти абсолютно все, що потрібно, і навіть більше. Товари високої якості, а обслуговування просто на вищому рівні. Персонал завжди усміхнений і готовий допомогти. Мені дуже сподобалась атмосфера, тому обов'язково повернуся сюди ще не раз.\",\n",
    "    \"Цей магазин мене абсолютно не вразив. Вибір товарів був обмежений, а обслуговування - на дуже низькому рівні. Продавці зовсім не проявляли ініціативу і не надавали жодних порад. Усе виглядало дуже неорганізовано, тому я точно сюди більше не повернуся.\",\n",
    "    \"Обслуговування в магазині було на хорошому рівні, але, на жаль, вибір товарів був обмежений. Це трохи засмутило, бо я шукав конкретний товар, а його не було. Та все ж продавці були ввічливі і допомогли знайти кілька альтернатив, тому я не зовсім розчарований, але наступного разу хотілося б більше варіантів.\",\n",
    "    \"Ніколи більше не повернуся сюди. Усе почалося з того, що продавець був неохоче готовий допомогти, і коли я запитав про наявність товару, мені просто вказали на полицю, де нічого не було. Це було не тільки неприємно, а й надзвичайно незручно. Магазин абсолютно не відповідає моїм стандартам.\",\n",
    "    \"Я вражений! Це було справжнє задоволення – від моменту входу до моменту оплати. Персонал дуже привітний, вони не тільки допомогли вибрати найкращий товар, але й поділилися корисними порадами. Атмосфера в магазині була теплою, і я відчував, що тут мені дійсно раді. Це справжній приклад того, як має виглядати ідеальний магазин!\",\n",
    "    \"Все було досить непогано, але я очікував більше. Магазин має гарний асортимент, але часом важко знайти те, що потрібно. Обслуговування стандартне, нічого особливого. Персонал не був дуже уважним, але не можна сказати, що було погано. Можливо, я очікував чогось більшого, тому для мене це була дещо звичайна покупка.\"\n",
    "]\n",
    "\n",
    "\n",
    "result = classifier(reviews)\n",
    "for result_i in result:\n",
    "    print(result_i)"
   ]
  },
  {
   "cell_type": "code",
   "execution_count": 15,
   "id": "8e62a9a2-84e0-4f94-9f23-62644649699b",
   "metadata": {},
   "outputs": [
    {
     "name": "stderr",
     "output_type": "stream",
     "text": [
      "Device set to use mps:0\n"
     ]
    },
    {
     "name": "stdout",
     "output_type": "stream",
     "text": [
      "{'label': '5 stars', 'score': 0.6444104313850403}\n",
      "{'label': '5 stars', 'score': 0.8703593015670776}\n",
      "{'label': '1 star', 'score': 0.5657243132591248}\n",
      "{'label': '2 stars', 'score': 0.47917115688323975}\n",
      "{'label': '5 stars', 'score': 0.9061741232872009}\n",
      "{'label': '1 star', 'score': 0.6427597999572754}\n",
      "{'label': '3 stars', 'score': 0.5602842569351196}\n",
      "{'label': '1 star', 'score': 0.7383852601051331}\n",
      "{'label': '5 stars', 'score': 0.8540400862693787}\n",
      "{'label': '3 stars', 'score': 0.6597970128059387}\n"
     ]
    }
   ],
   "source": [
    "classifier = pipeline(\n",
    "    \"sentiment-analysis\",\n",
    "    model = \"nlptown/bert-base-multilingual-uncased-sentiment\",\n",
    "    tokenizer = \"nlptown/bert-base-multilingual-uncased-sentiment\",\n",
    "\tpadding = True,\n",
    "    truncation = True,\n",
    "    max_length = 256\n",
    ")\n",
    "\n",
    "reviews = [\n",
    "    \"Обслуговування на висоті! Персонал дуже привітний і уважний. Я одразу зрозумів, що тут працюють справжні професіонали. Магазин чистий і затишний, товари завжди в наявності. Обов'язково повернуся ще раз, адже таке обслуговування зустрічається не часто.\",\n",
    "    \"Чудовий магазин! Я був приємно здивований якістю обслуговування. Персонал не тільки допоміг вибрати потрібний товар, але й дав кілька корисних порад, як краще ним користуватися. Вибір товарів великий, ціни доступні, а атмосфера дуже комфортна. Рекомендую всім!\",\n",
    "    \"Магазин не відповідає моїм очікуванням. Хоча товар і був в наявності, персонал зовсім не допоміг у виборі, не запропонував альтернативи, навіть коли я задавав конкретні питання. Мене це дуже розчарувало, адже я очікував кращого сервісу за такі ціни. Не рекомендую цей магазин.\",\n",
    "    \"Враження змішані. Магазин не поганий, але й не вражає. Товари в наявності, але вибір не такий великий, як я очікував. Обслуговування було досить стандартним, ніяких додаткових порад чи рекомендацій. Не скажу, що це погано, але й нічого особливого.\",\n",
    "    \"Магазин просто чудовий! Тут можна знайти абсолютно все, що потрібно, і навіть більше. Товари високої якості, а обслуговування просто на вищому рівні. Персонал завжди усміхнений і готовий допомогти. Мені дуже сподобалась атмосфера, тому обов'язково повернуся сюди ще не раз.\",\n",
    "    \"Цей магазин мене абсолютно не вразив. Вибір товарів був обмежений, а обслуговування - на дуже низькому рівні. Продавці зовсім не проявляли ініціативу і не надавали жодних порад. Усе виглядало дуже неорганізовано, тому я точно сюди більше не повернуся.\",\n",
    "    \"Обслуговування в магазині було на хорошому рівні, але, на жаль, вибір товарів був обмежений. Це трохи засмутило, бо я шукав конкретний товар, а його не було. Та все ж продавці були ввічливі і допомогли знайти кілька альтернатив, тому я не зовсім розчарований, але наступного разу хотілося б більше варіантів.\",\n",
    "    \"Ніколи більше не повернуся сюди. Усе почалося з того, що продавець був неохоче готовий допомогти, і коли я запитав про наявність товару, мені просто вказали на полицю, де нічого не було. Це було не тільки неприємно, а й надзвичайно незручно. Магазин абсолютно не відповідає моїм стандартам.\",\n",
    "    \"Я вражений! Це було справжнє задоволення – від моменту входу до моменту оплати. Персонал дуже привітний, вони не тільки допомогли вибрати найкращий товар, але й поділилися корисними порадами. Атмосфера в магазині була теплою, і я відчував, що тут мені дійсно раді. Це справжній приклад того, як має виглядати ідеальний магазин!\",\n",
    "    \"Все було досить непогано, але я очікував більше. Магазин має гарний асортимент, але часом важко знайти те, що потрібно. Обслуговування стандартне, нічого особливого. Персонал не був дуже уважним, але не можна сказати, що було погано. Можливо, я очікував чогось більшого, тому для мене це була дещо звичайна покупка.\"\n",
    "]\n",
    "\n",
    "\n",
    "result = classifier(reviews)\n",
    "for result_i in result:\n",
    "    print(result_i)"
   ]
  },
  {
   "cell_type": "code",
   "execution_count": null,
   "id": "5c8f9849-5818-46b9-84e2-393bd3a6dabc",
   "metadata": {},
   "outputs": [],
   "source": []
  },
  {
   "cell_type": "code",
   "execution_count": 41,
   "id": "c499e086-f6ee-4582-be26-ae2200204c4a",
   "metadata": {},
   "outputs": [
    {
     "name": "stderr",
     "output_type": "stream",
     "text": [
      "Device set to use mps:0\n"
     ]
    },
    {
     "name": "stdout",
     "output_type": "stream",
     "text": [
      "Sentiment: Negative, Score: 0.8256200551986694\n",
      "Sentiment: Negative, Score: 0.783611536026001\n",
      "Sentiment: Negative, Score: 0.7970741391181946\n",
      "Sentiment: Negative, Score: 0.7718475461006165\n",
      "Sentiment: Negative, Score: 0.8105305433273315\n"
     ]
    }
   ],
   "source": [
    "from transformers import pipeline\n",
    "\n",
    "classifier = pipeline(\n",
    "    \"sentiment-analysis\",\n",
    "    model=\"cardiffnlp/twitter-roberta-base-sentiment\",\n",
    "    tokenizer=\"cardiffnlp/twitter-roberta-base-sentiment\",\n",
    "    padding=True,\n",
    "    truncation=True,\n",
    "    max_length=512\n",
    ")\n",
    "\n",
    "label_mapping = {\n",
    "    'LABEL_0': 'Very Negative',\n",
    "    'LABEL_1': 'Negative',\n",
    "    'LABEL_2': 'Neutral',\n",
    "    'LABEL_3': 'Positive',\n",
    "    'LABEL_4': 'Very Positive'\n",
    "}\n",
    "\n",
    "result = classifier(reviews)\n",
    "for result_i in result:\n",
    "    label = result_i['label']\n",
    "    sentiment = label_mapping.get(label, 'Unknown')\n",
    "    print(f\"Sentiment: {sentiment}, Score: {result_i['score']}\")\n"
   ]
  },
  {
   "cell_type": "code",
   "execution_count": 53,
   "id": "7dc8076d-1b18-49a9-a70c-a614dca2dce9",
   "metadata": {},
   "outputs": [
    {
     "data": {
      "application/vnd.jupyter.widget-view+json": {
       "model_id": "8916e41e761d49c8b60c6a3bbf70df82",
       "version_major": 2,
       "version_minor": 0
      },
      "text/plain": [
       "config.json:   0%|          | 0.00/18.5k [00:00<?, ?B/s]"
      ]
     },
     "metadata": {},
     "output_type": "display_data"
    },
    {
     "data": {
      "application/vnd.jupyter.widget-view+json": {
       "model_id": "17701a0584ed4b049396ce7525dd5f25",
       "version_major": 2,
       "version_minor": 0
      },
      "text/plain": [
       "model.safetensors:   0%|          | 0.00/738M [00:00<?, ?B/s]"
      ]
     },
     "metadata": {},
     "output_type": "display_data"
    },
    {
     "data": {
      "application/vnd.jupyter.widget-view+json": {
       "model_id": "392bc265b2324270993cd0b3ee65f256",
       "version_major": 2,
       "version_minor": 0
      },
      "text/plain": [
       "tokenizer_config.json:   0%|          | 0.00/1.28k [00:00<?, ?B/s]"
      ]
     },
     "metadata": {},
     "output_type": "display_data"
    },
    {
     "data": {
      "application/vnd.jupyter.widget-view+json": {
       "model_id": "61af7f5c48b6475696338c3ed5b6855d",
       "version_major": 2,
       "version_minor": 0
      },
      "text/plain": [
       "spm.model:   0%|          | 0.00/2.46M [00:00<?, ?B/s]"
      ]
     },
     "metadata": {},
     "output_type": "display_data"
    },
    {
     "data": {
      "application/vnd.jupyter.widget-view+json": {
       "model_id": "5ef48f4c82a54a8b986b8d4353fc0ad7",
       "version_major": 2,
       "version_minor": 0
      },
      "text/plain": [
       "tokenizer.json:   0%|          | 0.00/8.66M [00:00<?, ?B/s]"
      ]
     },
     "metadata": {},
     "output_type": "display_data"
    },
    {
     "data": {
      "application/vnd.jupyter.widget-view+json": {
       "model_id": "501cf784904047829ea2637f32773dbe",
       "version_major": 2,
       "version_minor": 0
      },
      "text/plain": [
       "added_tokens.json:   0%|          | 0.00/23.0 [00:00<?, ?B/s]"
      ]
     },
     "metadata": {},
     "output_type": "display_data"
    },
    {
     "data": {
      "application/vnd.jupyter.widget-view+json": {
       "model_id": "c9a5848d601647e0ba47459a5f97fd8f",
       "version_major": 2,
       "version_minor": 0
      },
      "text/plain": [
       "special_tokens_map.json:   0%|          | 0.00/286 [00:00<?, ?B/s]"
      ]
     },
     "metadata": {},
     "output_type": "display_data"
    },
    {
     "name": "stderr",
     "output_type": "stream",
     "text": [
      "Device set to use mps:0\n",
      "Asking to truncate to max_length but no maximum length is provided and the model has no predefined maximum length. Default to no truncation.\n"
     ]
    },
    {
     "name": "stdout",
     "output_type": "stream",
     "text": [
      "{'sequence': 'Великий місто нічого не значить для мене, коли я знаходжу спокій у горах. Мені подобається гуляти серед лісу, де дерева шепочуть свої давні історії. Вільний час я завжди проводжу на природі, намагаючись відновити свої сили після напруженого тижня. Можливо, я не той, хто шукає славу або успіх, але я точно знаю, що найбільше ціную гармонію з навколишнім світом.', 'labels': ['гармонія', 'природа', 'дерево', 'місто', 'ліс', 'реактор', 'човен', 'зграя', 'гори'], 'scores': [0.34178104996681213, 0.1649400144815445, 0.12113765627145767, 0.11920178681612015, 0.08762884885072708, 0.05283137410879135, 0.04479019343852997, 0.037185344845056534, 0.03050367161631584]}\n"
     ]
    }
   ],
   "source": [
    "from transformers import pipeline\n",
    "\n",
    "classifier = pipeline(\n",
    "    \"zero-shot-classification\",\n",
    "    model=\"sileod/deberta-v3-base-tasksource-nli\",\n",
    "    tokenizer=\"sileod/deberta-v3-base-tasksource-nli\",\n",
    "    padding=True,\n",
    "    truncation=True,\n",
    "    max_length=256\n",
    ")\n",
    "\n",
    "text = \"Великий місто нічого не значить для мене, коли я знаходжу спокій у горах. Мені подобається гуляти серед лісу, де дерева шепочуть свої давні історії. Вільний час я завжди проводжу на природі, намагаючись відновити свої сили після напруженого тижня. Можливо, я не той, хто шукає славу або успіх, але я точно знаю, що найбільше ціную гармонію з навколишнім світом.\"\n",
    "candidate_labels = ['природа', 'гори', 'гармонія', 'місто', 'ліс', 'човен', 'дерево', 'реактор', 'зграя']\n",
    "\n",
    "print(classifier(text, candidate_labels))"
   ]
  },
  {
   "cell_type": "code",
   "execution_count": null,
   "id": "bbd0f211-a2b7-4442-90c1-1122f7e6f5bd",
   "metadata": {},
   "outputs": [],
   "source": []
  },
  {
   "cell_type": "code",
   "execution_count": null,
   "id": "5073450b-86a6-4158-a798-96c9aedfef90",
   "metadata": {},
   "outputs": [],
   "source": []
  },
  {
   "cell_type": "code",
   "execution_count": 6,
   "id": "a093aa78-4c75-42f5-bdb1-7e20a18f75f2",
   "metadata": {},
   "outputs": [
    {
     "name": "stdout",
     "output_type": "stream",
     "text": [
      "Requirement already satisfied: sentencepiece in /opt/anaconda3/lib/python3.12/site-packages (0.2.0)\n"
     ]
    },
    {
     "data": {
      "application/vnd.jupyter.widget-view+json": {
       "model_id": "154cd1d0980c47fd955e89d1ee6d9234",
       "version_major": 2,
       "version_minor": 0
      },
      "text/plain": [
       "tokenizer_config.json:   0%|          | 0.00/298 [00:00<?, ?B/s]"
      ]
     },
     "metadata": {},
     "output_type": "display_data"
    },
    {
     "data": {
      "application/vnd.jupyter.widget-view+json": {
       "model_id": "2eb9c8e3ea6b4cf0a24d9fe71cde9323",
       "version_major": 2,
       "version_minor": 0
      },
      "text/plain": [
       "vocab.json:   0%|          | 0.00/3.71M [00:00<?, ?B/s]"
      ]
     },
     "metadata": {},
     "output_type": "display_data"
    },
    {
     "data": {
      "application/vnd.jupyter.widget-view+json": {
       "model_id": "717e7c5332e149058f296bb331f16afe",
       "version_major": 2,
       "version_minor": 0
      },
      "text/plain": [
       "sentencepiece.bpe.model:   0%|          | 0.00/2.42M [00:00<?, ?B/s]"
      ]
     },
     "metadata": {},
     "output_type": "display_data"
    },
    {
     "data": {
      "application/vnd.jupyter.widget-view+json": {
       "model_id": "60c3799965b04c149dd8268ffe0666b1",
       "version_major": 2,
       "version_minor": 0
      },
      "text/plain": [
       "special_tokens_map.json:   0%|          | 0.00/1.14k [00:00<?, ?B/s]"
      ]
     },
     "metadata": {},
     "output_type": "display_data"
    },
    {
     "name": "stdout",
     "output_type": "stream",
     "text": [
      "Translated text: Здравейте, какво е твоето дело?\n"
     ]
    }
   ],
   "source": [
    "!pip3 install sentencepiece\n",
    "from transformers import M2M100ForConditionalGeneration, M2M100Tokenizer\n",
    "\n",
    "model_name = 'facebook/m2m100_418M'\n",
    "model = M2M100ForConditionalGeneration.from_pretrained(model_name)\n",
    "tokenizer = M2M100Tokenizer.from_pretrained(model_name)\n",
    "\n",
    "ukrainian_text = \"Привіт, як твої справи?\"\n",
    "\n",
    "tokenizer.src_lang = \"uk\"\n",
    "tokenizer.tgt_lang = \"en\"\n",
    "\n",
    "encoded_text = tokenizer(ukrainian_text, return_tensors=\"pt\")\n",
    "generated_tokens = model.generate(**encoded_text)\n",
    "translated_text = tokenizer.decode(generated_tokens[0], skip_special_tokens=True)\n",
    "\n",
    "print(\"Translated text:\", translated_text)"
   ]
  },
  {
   "cell_type": "code",
   "execution_count": null,
   "id": "05685d3e-5378-47ab-a335-ecaeeeb60aa3",
   "metadata": {},
   "outputs": [],
   "source": []
  },
  {
   "cell_type": "code",
   "execution_count": 4,
   "id": "d020242c-1877-40af-ae09-6aabb641be78",
   "metadata": {},
   "outputs": [
    {
     "name": "stderr",
     "output_type": "stream",
     "text": [
      "Asking to truncate to max_length but no maximum length is provided and the model has no predefined maximum length. Default to no truncation.\n"
     ]
    },
    {
     "name": "stdout",
     "output_type": "stream",
     "text": [
      "Translated text: к тво срави?\n"
     ]
    }
   ],
   "source": [
    "from transformers import T5ForConditionalGeneration, T5Tokenizer\n",
    "\n",
    "model_name = 't5-base'\n",
    "model = T5ForConditionalGeneration.from_pretrained(model_name)\n",
    "tokenizer = T5Tokenizer.from_pretrained(model_name)\n",
    "\n",
    "ukrainian_text = \"Як твої справи?\"\n",
    "\n",
    "input_text = f\"translate Ukrainian to English: {ukrainian_text}\"\n",
    "\n",
    "inputs = tokenizer(input_text, return_tensors=\"pt\", padding=True, truncation=True)\n",
    "outputs = model.generate(inputs[\"input_ids\"])\n",
    "\n",
    "translated_text = tokenizer.decode(outputs[0], skip_special_tokens=True)\n",
    "\n",
    "print(\"Translated text:\", translated_text)"
   ]
  },
  {
   "cell_type": "code",
   "execution_count": 19,
   "id": "b8e18401-eae5-4d9b-bc0a-84d55ffed1d5",
   "metadata": {},
   "outputs": [
    {
     "name": "stdout",
     "output_type": "stream",
     "text": [
      "Untranslated text: Обслуговування на висоті! Персонал дуже привітний і уважний. Я одразу зрозумів, що тут працюють справжні професіонали. Магазин чистий і затишний, товари завжди в наявності. Обов'язково повернуся ще раз, адже таке обслуговування зустрічається не часто.\n",
      "Translated text: The staff is very friendly and attentive, and I immediately realized that the store is clean and comfortable, and the goods are always available, and I'll be back, because that's not a lot of service.\n",
      "Untranslated text: Чудовий магазин! Я був приємно здивований якістю обслуговування. Персонал не тільки допоміг вибрати потрібний товар, але й дав кілька корисних порад, як краще ним користуватися. Вибір товарів великий, ціни доступні, а атмосфера дуже комфортна. Рекомендую всім!\n",
      "Translated text: A fine store! I was pleasantly surprised by the quality of the service. The staff not only helped to select the right product but also gave some helpful suggestions on how to use it better. The choice is large, the prices are affordable, and the atmosphere is very comfortable. I recommend it to everyone!\n",
      "Untranslated text: Магазин не відповідає моїм очікуванням. Хоча товар і був в наявності, персонал зовсім не допоміг у виборі, не запропонував альтернативи, навіть коли я задавав конкретні питання. Мене це дуже розчарувало, адже я очікував кращого сервісу за такі ціни. Не рекомендую цей магазин.\n",
      "Translated text: The store doesn't meet my expectations, although the goods were there, the staff didn't help with the election at all, they didn't offer alternatives, even when I was asking specific questions, and I was very disappointed because I expected a better service at this price, and I don't recommend this store.\n",
      "Untranslated text: Враження змішані. Магазин не поганий, але й не вражає. Товари в наявності, але вибір не такий великий, як я очікував. Обслуговування було досить стандартним, ніяких додаткових порад чи рекомендацій. Не скажу, що це погано, але й нічого особливого.\n",
      "Translated text: It's not bad, it's not bad, it's not impressive.\n",
      "Untranslated text: Магазин просто чудовий! Тут можна знайти абсолютно все, що потрібно, і навіть більше. Товари високої якості, а обслуговування просто на вищому рівні. Персонал завжди усміхнений і готовий допомогти. Мені дуже сподобалась атмосфера, тому обов'язково повернуся сюди ще не раз.\n",
      "Translated text: The store's great, and you can find everything you need, and more, and you know, high-quality people, and the service is at a higher level, and the staff is always smiling and ready to help, so I'm sure I'm going to come back here again.\n",
      "Untranslated text: Цей магазин мене абсолютно не вразив. Вибір товарів був обмежений, а обслуговування - на дуже низькому рівні. Продавці зовсім не проявляли ініціативу і не надавали жодних порад. Усе виглядало дуже неорганізовано, тому я точно сюди більше не повернуся.\n",
      "Translated text: This store didn't really impress me, because the choice was limited, and the service was at a very low level, and the sellers didn't take any initiative, and they didn't give any advice, and it looked very unorganized, so I'm definitely not going to come back here anymore.\n",
      "Untranslated text: Обслуговування в магазині було на хорошому рівні, але, на жаль, вибір товарів був обмежений. Це трохи засмутило, бо я шукав конкретний товар, а його не було. Та все ж продавці були ввічливі і допомогли знайти кілька альтернатив, тому я не зовсім розчарований, але наступного разу хотілося б більше варіантів.\n",
      "Translated text: The store service was good, but unfortunately, the choice of goods was limited, and it was kind of frustrating, because I was looking for a particular product, and it wasn't, but the sellers were polite, and they helped me find several alternatives, so I'm not quite disappointed, but the next time I wanted more options.\n",
      "Untranslated text: Ніколи більше не повернуся сюди. Усе почалося з того, що продавець був неохоче готовий допомогти, і коли я запитав про наявність товару, мені просто вказали на полицю, де нічого не було. Це було не тільки неприємно, а й надзвичайно незручно. Магазин абсолютно не відповідає моїм стандартам.\n",
      "Translated text: I'm never going to come back here again, and it started because the seller was reluctant to help, and when I asked about the supplies, they just pointed to a shelf that didn't have anything, it wasn't just unpleasant, it was extremely uncomfortable, it was completely out of the question for my standards.\n",
      "Untranslated text: Я вражений! Це було справжнє задоволення – від моменту входу до моменту оплати. Персонал дуже привітний, вони не тільки допомогли вибрати найкращий товар, але й поділилися корисними порадами. Атмосфера в магазині була теплою, і я відчував, що тут мені дійсно раді. Це справжній приклад того, як має виглядати ідеальний магазин!\n",
      "Translated text: It was a real pleasure from the moment you entered the payment, and the staff was very friendly, and not only did they help you choose the best product, but they shared some helpful tips, and the atmosphere in the store was warm, and I felt really welcome here, and that's a real example of what the perfect store would look like!\n",
      "Untranslated text: Все було досить непогано, але я очікував більше. Магазин має гарний асортимент, але часом важко знайти те, що потрібно. Обслуговування стандартне, нічого особливого. Персонал не був дуже уважним, але не можна сказати, що було погано. Можливо, я очікував чогось більшого, тому для мене це була дещо звичайна покупка.\n",
      "Translated text: And it was pretty good, but I was expecting more, and the store had a good assortment, but sometimes it's hard to find what it's worth. &gt;&gt; The service is standard, nothing special. &gt;&gt; The staff wasn't very careful, but you can't say it was bad, maybe I was expecting something bigger, so it was just a simple purchase for me. &gt;&gt; Dr. Zucker:\n"
     ]
    }
   ],
   "source": [
    "from transformers import pipeline, MarianMTModel, MarianTokenizer\n",
    "\n",
    "model_name = 'Helsinki-NLP/opus-mt-uk-en'\n",
    "model = MarianMTModel.from_pretrained(model_name)\n",
    "tokenizer = MarianTokenizer.from_pretrained(model_name)\n",
    "\n",
    "for ukr_text in reviews:\n",
    "    tokens = tokenizer(ukr_text, return_tensors='pt', padding=True)\n",
    "\n",
    "    translated_tokens = model.generate(**tokens)\n",
    "    translated_text = tokenizer.decode(translated_tokens[0], skip_special_tokens=True)\n",
    "\n",
    "    print(\"Untranslated text:\", ukr_text)\n",
    "    print(\"Translated text:\", translated_text)"
   ]
  },
  {
   "cell_type": "code",
   "execution_count": null,
   "id": "b5b9ce32-6257-4159-9cc2-d0a4b8ef06ab",
   "metadata": {},
   "outputs": [],
   "source": []
  }
 ],
 "metadata": {
  "kernelspec": {
   "display_name": "Python [conda env:base] *",
   "language": "python",
   "name": "conda-base-py"
  },
  "language_info": {
   "codemirror_mode": {
    "name": "ipython",
    "version": 3
   },
   "file_extension": ".py",
   "mimetype": "text/x-python",
   "name": "python",
   "nbconvert_exporter": "python",
   "pygments_lexer": "ipython3",
   "version": "3.12.7"
  }
 },
 "nbformat": 4,
 "nbformat_minor": 5
}
