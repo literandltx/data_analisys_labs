{
 "cells": [
  {
   "cell_type": "code",
   "execution_count": null,
   "id": "76824bea-8f5a-4600-8ff1-9cad22c8e49c",
   "metadata": {},
   "outputs": [],
   "source": [
    "!pip install pandas numpy scikit-learn matplotlib tensorflow"
   ]
  },
  {
   "cell_type": "markdown",
   "id": "2b439f14-8a8c-42c5-8916-181b39dddc2c",
   "metadata": {},
   "source": [
    "### Fetch dataset"
   ]
  },
  {
   "cell_type": "markdown",
   "id": "e82d9f84-5825-4c95-92d5-49935e7869fa",
   "metadata": {},
   "source": [
    "### Add inports"
   ]
  },
  {
   "cell_type": "code",
   "execution_count": 3,
   "id": "e29e9294-32eb-4c5f-b6c0-09241c7192a3",
   "metadata": {},
   "outputs": [],
   "source": [
    "import numpy as np\n",
    "import pandas as pd\n",
    "import matplotlib.pyplot as plt\n",
    "\n",
    "from sklearn.preprocessing import MinMaxScaler\n",
    "from sklearn.model_selection import train_test_split\n",
    "\n",
    "from tensorflow import keras\n",
    "from tensorflow.keras import layers\n",
    "from tensorflow.keras import Input\n",
    "\n",
    "from ucimlrepo import fetch_ucirepo "
   ]
  },
  {
   "cell_type": "code",
   "execution_count": null,
   "id": "9ebb66c9-6b80-499a-8c16-c3d552440c72",
   "metadata": {},
   "outputs": [],
   "source": [
    "occupancy_detection = fetch_ucirepo(id=193) \n",
    "\n",
    "X = occupancy_detection.data.features\n",
    "y = occupancy_detection.data.targets\n",
    "\n",
    "df = pd.concat([X, y], axis=1)\n",
    "print(\"dataset fetched\")"
   ]
  },
  {
   "cell_type": "markdown",
   "id": "bb4e99a1-69fd-4f6f-8b44-08d219d8f422",
   "metadata": {},
   "source": [
    "### Dataset overview"
   ]
  },
  {
   "cell_type": "code",
   "execution_count": null,
   "id": "6f2fa20b-9a99-48d2-83df-3f201745aba5",
   "metadata": {},
   "outputs": [],
   "source": [
    "print(df.isnull().mean())\n",
    "df = df.dropna()\n",
    "df.info()\n",
    "df.shape\n",
    "df.head(15)\n",
    "df.describe()"
   ]
  },
  {
   "cell_type": "markdown",
   "id": "a00ff8dd-6aa5-4d59-bf2e-653f86ae185e",
   "metadata": {},
   "source": [
    "### Cleanup dataset"
   ]
  },
  {
   "cell_type": "code",
   "execution_count": null,
   "id": "8a87c6ae-1e30-4172-8e02-9d9ea1105d81",
   "metadata": {},
   "outputs": [],
   "source": [
    "df = df[[\n",
    "    'LB', \n",
    "    'AC', 'FM', 'UC', 'DL', \n",
    "    'DS',\n",
    "    'DP', \n",
    "    'ASTV',\n",
    "    'MSTV',\n",
    "    'ALTV',\n",
    "    'MLTV', \n",
    "    'Width', \n",
    "    # 'Min', 'Max',\n",
    "    # 'Nmax', \n",
    "    # 'Nzeros',\n",
    "    # 'Mode', 'Mean',\n",
    "    # 'Median', 'Variance', \n",
    "    # 'Tendency', \n",
    "    'CLASS', \n",
    "    'NSP'\n",
    "]]"
   ]
  },
  {
   "cell_type": "markdown",
   "id": "aad01f09-47cc-44f3-9bfe-cb75b2781cbd",
   "metadata": {},
   "source": [
    "### Повнозв'язна нейронна мережа MLP (Multilayer Perception)"
   ]
  },
  {
   "cell_type": "code",
   "execution_count": 74,
   "id": "6b59c46b-db6d-4905-b44a-af9381c0c808",
   "metadata": {},
   "outputs": [
    {
     "name": "stdout",
     "output_type": "stream",
     "text": [
      "1700 train samples\n",
      "426 test samples\n"
     ]
    }
   ],
   "source": [
    "number_of_classes = 11\n",
    "target = \"CLASS\"\n",
    "\n",
    "X = df\n",
    "y = df[target]\n",
    "\n",
    "X_train, X_test, y_train, y_test = train_test_split(X, y, test_size=0.20)\n",
    "\n",
    "print(X_train.shape[0], 'train samples')\n",
    "print(X_test.shape[0], 'test samples')"
   ]
  },
  {
   "cell_type": "code",
   "execution_count": 75,
   "id": "7c42f3dc-27c5-4b81-acc1-090abe9ccfdc",
   "metadata": {},
   "outputs": [],
   "source": [
    "scaler = MinMaxScaler()\n",
    "scaler.fit(X_train)\n",
    "\n",
    "scaled_X_train = scaler.transform(X_train) \n",
    "scaled_X_test = scaler.transform(X_test) "
   ]
  },
  {
   "cell_type": "code",
   "execution_count": 76,
   "id": "f524d7fa-7097-4eab-afe4-0ac7639787cc",
   "metadata": {},
   "outputs": [],
   "source": [
    "from tensorflow.keras.utils import to_categorical\n",
    "\n",
    "y_train_one_hot = to_categorical(y_train, num_classes=number_of_classes)\n",
    "y_test_one_hot = to_categorical(y_test, num_classes=number_of_classes)"
   ]
  },
  {
   "cell_type": "code",
   "execution_count": 123,
   "id": "388f8293-73b3-4804-9a04-b67df9b95d7f",
   "metadata": {},
   "outputs": [
    {
     "data": {
      "text/html": [
       "<pre style=\"white-space:pre;overflow-x:auto;line-height:normal;font-family:Menlo,'DejaVu Sans Mono',consolas,'Courier New',monospace\"><span style=\"font-weight: bold\">Model: \"sequential_14\"</span>\n",
       "</pre>\n"
      ],
      "text/plain": [
       "\u001b[1mModel: \"sequential_14\"\u001b[0m\n"
      ]
     },
     "metadata": {},
     "output_type": "display_data"
    },
    {
     "data": {
      "text/html": [
       "<pre style=\"white-space:pre;overflow-x:auto;line-height:normal;font-family:Menlo,'DejaVu Sans Mono',consolas,'Courier New',monospace\">┏━━━━━━━━━━━━━━━━━━━━━━━━━━━━━━━━━┳━━━━━━━━━━━━━━━━━━━━━━━━┳━━━━━━━━━━━━━━━┓\n",
       "┃<span style=\"font-weight: bold\"> Layer (type)                    </span>┃<span style=\"font-weight: bold\"> Output Shape           </span>┃<span style=\"font-weight: bold\">       Param # </span>┃\n",
       "┡━━━━━━━━━━━━━━━━━━━━━━━━━━━━━━━━━╇━━━━━━━━━━━━━━━━━━━━━━━━╇━━━━━━━━━━━━━━━┩\n",
       "│ dense_45 (<span style=\"color: #0087ff; text-decoration-color: #0087ff\">Dense</span>)                │ (<span style=\"color: #00d7ff; text-decoration-color: #00d7ff\">None</span>, <span style=\"color: #00af00; text-decoration-color: #00af00\">256</span>)            │         <span style=\"color: #00af00; text-decoration-color: #00af00\">3,840</span> │\n",
       "├─────────────────────────────────┼────────────────────────┼───────────────┤\n",
       "│ batch_normalization_14          │ (<span style=\"color: #00d7ff; text-decoration-color: #00d7ff\">None</span>, <span style=\"color: #00af00; text-decoration-color: #00af00\">256</span>)            │         <span style=\"color: #00af00; text-decoration-color: #00af00\">1,024</span> │\n",
       "│ (<span style=\"color: #0087ff; text-decoration-color: #0087ff\">BatchNormalization</span>)            │                        │               │\n",
       "├─────────────────────────────────┼────────────────────────┼───────────────┤\n",
       "│ dense_46 (<span style=\"color: #0087ff; text-decoration-color: #0087ff\">Dense</span>)                │ (<span style=\"color: #00d7ff; text-decoration-color: #00d7ff\">None</span>, <span style=\"color: #00af00; text-decoration-color: #00af00\">256</span>)            │        <span style=\"color: #00af00; text-decoration-color: #00af00\">65,792</span> │\n",
       "├─────────────────────────────────┼────────────────────────┼───────────────┤\n",
       "│ dense_47 (<span style=\"color: #0087ff; text-decoration-color: #0087ff\">Dense</span>)                │ (<span style=\"color: #00d7ff; text-decoration-color: #00d7ff\">None</span>, <span style=\"color: #00af00; text-decoration-color: #00af00\">128</span>)            │        <span style=\"color: #00af00; text-decoration-color: #00af00\">32,896</span> │\n",
       "├─────────────────────────────────┼────────────────────────┼───────────────┤\n",
       "│ dense_48 (<span style=\"color: #0087ff; text-decoration-color: #0087ff\">Dense</span>)                │ (<span style=\"color: #00d7ff; text-decoration-color: #00d7ff\">None</span>, <span style=\"color: #00af00; text-decoration-color: #00af00\">64</span>)             │         <span style=\"color: #00af00; text-decoration-color: #00af00\">8,256</span> │\n",
       "├─────────────────────────────────┼────────────────────────┼───────────────┤\n",
       "│ dropout_14 (<span style=\"color: #0087ff; text-decoration-color: #0087ff\">Dropout</span>)            │ (<span style=\"color: #00d7ff; text-decoration-color: #00d7ff\">None</span>, <span style=\"color: #00af00; text-decoration-color: #00af00\">64</span>)             │             <span style=\"color: #00af00; text-decoration-color: #00af00\">0</span> │\n",
       "├─────────────────────────────────┼────────────────────────┼───────────────┤\n",
       "│ dense_49 (<span style=\"color: #0087ff; text-decoration-color: #0087ff\">Dense</span>)                │ (<span style=\"color: #00d7ff; text-decoration-color: #00d7ff\">None</span>, <span style=\"color: #00af00; text-decoration-color: #00af00\">11</span>)             │           <span style=\"color: #00af00; text-decoration-color: #00af00\">715</span> │\n",
       "└─────────────────────────────────┴────────────────────────┴───────────────┘\n",
       "</pre>\n"
      ],
      "text/plain": [
       "┏━━━━━━━━━━━━━━━━━━━━━━━━━━━━━━━━━┳━━━━━━━━━━━━━━━━━━━━━━━━┳━━━━━━━━━━━━━━━┓\n",
       "┃\u001b[1m \u001b[0m\u001b[1mLayer (type)                   \u001b[0m\u001b[1m \u001b[0m┃\u001b[1m \u001b[0m\u001b[1mOutput Shape          \u001b[0m\u001b[1m \u001b[0m┃\u001b[1m \u001b[0m\u001b[1m      Param #\u001b[0m\u001b[1m \u001b[0m┃\n",
       "┡━━━━━━━━━━━━━━━━━━━━━━━━━━━━━━━━━╇━━━━━━━━━━━━━━━━━━━━━━━━╇━━━━━━━━━━━━━━━┩\n",
       "│ dense_45 (\u001b[38;5;33mDense\u001b[0m)                │ (\u001b[38;5;45mNone\u001b[0m, \u001b[38;5;34m256\u001b[0m)            │         \u001b[38;5;34m3,840\u001b[0m │\n",
       "├─────────────────────────────────┼────────────────────────┼───────────────┤\n",
       "│ batch_normalization_14          │ (\u001b[38;5;45mNone\u001b[0m, \u001b[38;5;34m256\u001b[0m)            │         \u001b[38;5;34m1,024\u001b[0m │\n",
       "│ (\u001b[38;5;33mBatchNormalization\u001b[0m)            │                        │               │\n",
       "├─────────────────────────────────┼────────────────────────┼───────────────┤\n",
       "│ dense_46 (\u001b[38;5;33mDense\u001b[0m)                │ (\u001b[38;5;45mNone\u001b[0m, \u001b[38;5;34m256\u001b[0m)            │        \u001b[38;5;34m65,792\u001b[0m │\n",
       "├─────────────────────────────────┼────────────────────────┼───────────────┤\n",
       "│ dense_47 (\u001b[38;5;33mDense\u001b[0m)                │ (\u001b[38;5;45mNone\u001b[0m, \u001b[38;5;34m128\u001b[0m)            │        \u001b[38;5;34m32,896\u001b[0m │\n",
       "├─────────────────────────────────┼────────────────────────┼───────────────┤\n",
       "│ dense_48 (\u001b[38;5;33mDense\u001b[0m)                │ (\u001b[38;5;45mNone\u001b[0m, \u001b[38;5;34m64\u001b[0m)             │         \u001b[38;5;34m8,256\u001b[0m │\n",
       "├─────────────────────────────────┼────────────────────────┼───────────────┤\n",
       "│ dropout_14 (\u001b[38;5;33mDropout\u001b[0m)            │ (\u001b[38;5;45mNone\u001b[0m, \u001b[38;5;34m64\u001b[0m)             │             \u001b[38;5;34m0\u001b[0m │\n",
       "├─────────────────────────────────┼────────────────────────┼───────────────┤\n",
       "│ dense_49 (\u001b[38;5;33mDense\u001b[0m)                │ (\u001b[38;5;45mNone\u001b[0m, \u001b[38;5;34m11\u001b[0m)             │           \u001b[38;5;34m715\u001b[0m │\n",
       "└─────────────────────────────────┴────────────────────────┴───────────────┘\n"
      ]
     },
     "metadata": {},
     "output_type": "display_data"
    },
    {
     "data": {
      "text/html": [
       "<pre style=\"white-space:pre;overflow-x:auto;line-height:normal;font-family:Menlo,'DejaVu Sans Mono',consolas,'Courier New',monospace\"><span style=\"font-weight: bold\"> Total params: </span><span style=\"color: #00af00; text-decoration-color: #00af00\">112,523</span> (439.54 KB)\n",
       "</pre>\n"
      ],
      "text/plain": [
       "\u001b[1m Total params: \u001b[0m\u001b[38;5;34m112,523\u001b[0m (439.54 KB)\n"
      ]
     },
     "metadata": {},
     "output_type": "display_data"
    },
    {
     "data": {
      "text/html": [
       "<pre style=\"white-space:pre;overflow-x:auto;line-height:normal;font-family:Menlo,'DejaVu Sans Mono',consolas,'Courier New',monospace\"><span style=\"font-weight: bold\"> Trainable params: </span><span style=\"color: #00af00; text-decoration-color: #00af00\">112,011</span> (437.54 KB)\n",
       "</pre>\n"
      ],
      "text/plain": [
       "\u001b[1m Trainable params: \u001b[0m\u001b[38;5;34m112,011\u001b[0m (437.54 KB)\n"
      ]
     },
     "metadata": {},
     "output_type": "display_data"
    },
    {
     "data": {
      "text/html": [
       "<pre style=\"white-space:pre;overflow-x:auto;line-height:normal;font-family:Menlo,'DejaVu Sans Mono',consolas,'Courier New',monospace\"><span style=\"font-weight: bold\"> Non-trainable params: </span><span style=\"color: #00af00; text-decoration-color: #00af00\">512</span> (2.00 KB)\n",
       "</pre>\n"
      ],
      "text/plain": [
       "\u001b[1m Non-trainable params: \u001b[0m\u001b[38;5;34m512\u001b[0m (2.00 KB)\n"
      ]
     },
     "metadata": {},
     "output_type": "display_data"
    }
   ],
   "source": [
    "model = keras.Sequential([\n",
    "    Input(shape=(14,)), \n",
    "    keras.layers.Dense(256, activation=\"relu\"), \n",
    "    keras.layers.BatchNormalization(),\n",
    "    keras.layers.Dense(256, activation=\"relu\"),\n",
    "    keras.layers.Dense(128, activation=\"relu\"),\n",
    "    keras.layers.Dense(64, activation=\"relu\"),\n",
    "    keras.layers.Dropout(0.3),\n",
    "    keras.layers.Dense(number_of_classes, activation=\"softmax\"),\n",
    "])\n",
    "model.summary()"
   ]
  },
  {
   "cell_type": "code",
   "execution_count": 124,
   "id": "00a24a60-7b17-481e-a20d-6f6f83238b7f",
   "metadata": {},
   "outputs": [],
   "source": [
    "model.compile(\n",
    "    optimizer=keras.optimizers.Adam(learning_rate=0.0001), \n",
    "    loss=\"categorical_crossentropy\", \n",
    "    metrics=[\"accuracy\"]\n",
    ")"
   ]
  },
  {
   "cell_type": "code",
   "execution_count": 125,
   "id": "b4bf5c7e-7ed3-48ed-a3d6-cef8ece07a82",
   "metadata": {},
   "outputs": [
    {
     "name": "stdout",
     "output_type": "stream",
     "text": [
      "Epoch 1/60\n",
      "27/27 - 2s - 86ms/step - accuracy: 0.2471 - loss: 2.2538 - val_accuracy: 0.3803 - val_loss: 2.3523\n",
      "Epoch 2/60\n",
      "27/27 - 0s - 12ms/step - accuracy: 0.5753 - loss: 1.6941 - val_accuracy: 0.4789 - val_loss: 2.2890\n",
      "Epoch 3/60\n",
      "27/27 - 1s - 23ms/step - accuracy: 0.6959 - loss: 1.2479 - val_accuracy: 0.6244 - val_loss: 2.1981\n",
      "Epoch 4/60\n",
      "27/27 - 0s - 15ms/step - accuracy: 0.7459 - loss: 0.9537 - val_accuracy: 0.6737 - val_loss: 2.0923\n",
      "Epoch 5/60\n",
      "27/27 - 1s - 20ms/step - accuracy: 0.7941 - loss: 0.7271 - val_accuracy: 0.7934 - val_loss: 1.9733\n",
      "Epoch 6/60\n",
      "27/27 - 1s - 26ms/step - accuracy: 0.8312 - loss: 0.6043 - val_accuracy: 0.8310 - val_loss: 1.8392\n",
      "Epoch 7/60\n",
      "27/27 - 1s - 36ms/step - accuracy: 0.8529 - loss: 0.4926 - val_accuracy: 0.8709 - val_loss: 1.6890\n",
      "Epoch 8/60\n",
      "27/27 - 1s - 25ms/step - accuracy: 0.8729 - loss: 0.4106 - val_accuracy: 0.8850 - val_loss: 1.5305\n",
      "Epoch 9/60\n",
      "27/27 - 0s - 11ms/step - accuracy: 0.8888 - loss: 0.3671 - val_accuracy: 0.9108 - val_loss: 1.3720\n",
      "Epoch 10/60\n",
      "27/27 - 0s - 14ms/step - accuracy: 0.9129 - loss: 0.3168 - val_accuracy: 0.9178 - val_loss: 1.2029\n",
      "Epoch 11/60\n",
      "27/27 - 1s - 22ms/step - accuracy: 0.9276 - loss: 0.2769 - val_accuracy: 0.9296 - val_loss: 1.0352\n",
      "Epoch 12/60\n",
      "27/27 - 1s - 23ms/step - accuracy: 0.9376 - loss: 0.2480 - val_accuracy: 0.9507 - val_loss: 0.8791\n",
      "Epoch 13/60\n",
      "27/27 - 0s - 10ms/step - accuracy: 0.9312 - loss: 0.2293 - val_accuracy: 0.9601 - val_loss: 0.7306\n",
      "Epoch 14/60\n",
      "27/27 - 0s - 13ms/step - accuracy: 0.9465 - loss: 0.2083 - val_accuracy: 0.9765 - val_loss: 0.5852\n",
      "Epoch 15/60\n",
      "27/27 - 1s - 20ms/step - accuracy: 0.9547 - loss: 0.1681 - val_accuracy: 0.9718 - val_loss: 0.4714\n",
      "Epoch 16/60\n",
      "27/27 - 0s - 12ms/step - accuracy: 0.9553 - loss: 0.1633 - val_accuracy: 0.9789 - val_loss: 0.3637\n",
      "Epoch 17/60\n",
      "27/27 - 0s - 12ms/step - accuracy: 0.9553 - loss: 0.1518 - val_accuracy: 0.9789 - val_loss: 0.2789\n",
      "Epoch 18/60\n",
      "27/27 - 0s - 10ms/step - accuracy: 0.9612 - loss: 0.1466 - val_accuracy: 0.9836 - val_loss: 0.2209\n",
      "Epoch 19/60\n",
      "27/27 - 0s - 11ms/step - accuracy: 0.9571 - loss: 0.1495 - val_accuracy: 0.9812 - val_loss: 0.1770\n",
      "Epoch 20/60\n",
      "27/27 - 0s - 10ms/step - accuracy: 0.9712 - loss: 0.1177 - val_accuracy: 0.9836 - val_loss: 0.1434\n",
      "Epoch 21/60\n",
      "27/27 - 0s - 10ms/step - accuracy: 0.9706 - loss: 0.1143 - val_accuracy: 0.9836 - val_loss: 0.1178\n",
      "Epoch 22/60\n",
      "27/27 - 0s - 12ms/step - accuracy: 0.9688 - loss: 0.1101 - val_accuracy: 0.9859 - val_loss: 0.1004\n",
      "Epoch 23/60\n",
      "27/27 - 1s - 27ms/step - accuracy: 0.9729 - loss: 0.0981 - val_accuracy: 0.9883 - val_loss: 0.0855\n",
      "Epoch 24/60\n",
      "27/27 - 0s - 11ms/step - accuracy: 0.9753 - loss: 0.0944 - val_accuracy: 0.9859 - val_loss: 0.0787\n",
      "Epoch 25/60\n",
      "27/27 - 1s - 20ms/step - accuracy: 0.9771 - loss: 0.0898 - val_accuracy: 0.9883 - val_loss: 0.0722\n",
      "Epoch 26/60\n",
      "27/27 - 0s - 13ms/step - accuracy: 0.9847 - loss: 0.0745 - val_accuracy: 0.9906 - val_loss: 0.0686\n",
      "Epoch 27/60\n",
      "27/27 - 1s - 25ms/step - accuracy: 0.9812 - loss: 0.0761 - val_accuracy: 0.9906 - val_loss: 0.0628\n",
      "Epoch 28/60\n",
      "27/27 - 1s - 20ms/step - accuracy: 0.9824 - loss: 0.0703 - val_accuracy: 0.9906 - val_loss: 0.0610\n",
      "Epoch 29/60\n",
      "27/27 - 0s - 10ms/step - accuracy: 0.9829 - loss: 0.0656 - val_accuracy: 0.9906 - val_loss: 0.0581\n",
      "Epoch 30/60\n",
      "27/27 - 0s - 12ms/step - accuracy: 0.9788 - loss: 0.0709 - val_accuracy: 0.9906 - val_loss: 0.0589\n",
      "Epoch 31/60\n",
      "27/27 - 0s - 13ms/step - accuracy: 0.9818 - loss: 0.0641 - val_accuracy: 0.9906 - val_loss: 0.0569\n",
      "Epoch 32/60\n",
      "27/27 - 0s - 12ms/step - accuracy: 0.9876 - loss: 0.0573 - val_accuracy: 0.9906 - val_loss: 0.0548\n",
      "Epoch 33/60\n",
      "27/27 - 0s - 11ms/step - accuracy: 0.9841 - loss: 0.0590 - val_accuracy: 0.9906 - val_loss: 0.0531\n",
      "Epoch 34/60\n",
      "27/27 - 0s - 18ms/step - accuracy: 0.9824 - loss: 0.0597 - val_accuracy: 0.9906 - val_loss: 0.0556\n",
      "Epoch 35/60\n",
      "27/27 - 0s - 11ms/step - accuracy: 0.9865 - loss: 0.0530 - val_accuracy: 0.9906 - val_loss: 0.0491\n",
      "Epoch 36/60\n",
      "27/27 - 0s - 11ms/step - accuracy: 0.9900 - loss: 0.0449 - val_accuracy: 0.9906 - val_loss: 0.0485\n",
      "Epoch 37/60\n",
      "27/27 - 0s - 10ms/step - accuracy: 0.9865 - loss: 0.0423 - val_accuracy: 0.9906 - val_loss: 0.0516\n",
      "Epoch 38/60\n",
      "27/27 - 0s - 12ms/step - accuracy: 0.9847 - loss: 0.0510 - val_accuracy: 0.9906 - val_loss: 0.0510\n",
      "Epoch 39/60\n",
      "27/27 - 0s - 15ms/step - accuracy: 0.9847 - loss: 0.0533 - val_accuracy: 0.9883 - val_loss: 0.0528\n",
      "Epoch 40/60\n",
      "27/27 - 1s - 27ms/step - accuracy: 0.9918 - loss: 0.0428 - val_accuracy: 0.9906 - val_loss: 0.0462\n",
      "Epoch 41/60\n",
      "27/27 - 0s - 12ms/step - accuracy: 0.9912 - loss: 0.0400 - val_accuracy: 0.9906 - val_loss: 0.0485\n",
      "Epoch 42/60\n",
      "27/27 - 0s - 10ms/step - accuracy: 0.9929 - loss: 0.0391 - val_accuracy: 0.9906 - val_loss: 0.0502\n",
      "Epoch 43/60\n",
      "27/27 - 0s - 11ms/step - accuracy: 0.9912 - loss: 0.0306 - val_accuracy: 0.9906 - val_loss: 0.0500\n",
      "Epoch 44/60\n",
      "27/27 - 0s - 10ms/step - accuracy: 0.9924 - loss: 0.0346 - val_accuracy: 0.9906 - val_loss: 0.0465\n",
      "Epoch 45/60\n",
      "27/27 - 0s - 10ms/step - accuracy: 0.9924 - loss: 0.0305 - val_accuracy: 0.9906 - val_loss: 0.0465\n",
      "Epoch 46/60\n",
      "27/27 - 0s - 11ms/step - accuracy: 0.9888 - loss: 0.0364 - val_accuracy: 0.9930 - val_loss: 0.0480\n",
      "Epoch 47/60\n",
      "27/27 - 0s - 10ms/step - accuracy: 0.9935 - loss: 0.0289 - val_accuracy: 0.9930 - val_loss: 0.0485\n",
      "Epoch 48/60\n",
      "27/27 - 0s - 10ms/step - accuracy: 0.9918 - loss: 0.0303 - val_accuracy: 0.9930 - val_loss: 0.0475\n",
      "Epoch 49/60\n",
      "27/27 - 0s - 10ms/step - accuracy: 0.9924 - loss: 0.0303 - val_accuracy: 0.9930 - val_loss: 0.0492\n",
      "Epoch 50/60\n",
      "27/27 - 0s - 10ms/step - accuracy: 0.9918 - loss: 0.0301 - val_accuracy: 0.9930 - val_loss: 0.0494\n",
      "Epoch 51/60\n",
      "27/27 - 0s - 12ms/step - accuracy: 0.9929 - loss: 0.0277 - val_accuracy: 0.9930 - val_loss: 0.0480\n",
      "Epoch 52/60\n",
      "27/27 - 0s - 12ms/step - accuracy: 0.9947 - loss: 0.0215 - val_accuracy: 0.9930 - val_loss: 0.0497\n",
      "Epoch 53/60\n",
      "27/27 - 0s - 12ms/step - accuracy: 0.9906 - loss: 0.0324 - val_accuracy: 0.9930 - val_loss: 0.0499\n",
      "Epoch 54/60\n",
      "27/27 - 0s - 10ms/step - accuracy: 0.9924 - loss: 0.0262 - val_accuracy: 0.9930 - val_loss: 0.0466\n",
      "Epoch 55/60\n",
      "27/27 - 0s - 18ms/step - accuracy: 0.9876 - loss: 0.0388 - val_accuracy: 0.9930 - val_loss: 0.0467\n",
      "Epoch 56/60\n",
      "27/27 - 0s - 17ms/step - accuracy: 0.9959 - loss: 0.0225 - val_accuracy: 0.9930 - val_loss: 0.0452\n",
      "Epoch 57/60\n",
      "27/27 - 0s - 13ms/step - accuracy: 0.9941 - loss: 0.0222 - val_accuracy: 0.9930 - val_loss: 0.0433\n",
      "Epoch 58/60\n",
      "27/27 - 0s - 8ms/step - accuracy: 0.9935 - loss: 0.0230 - val_accuracy: 0.9930 - val_loss: 0.0428\n",
      "Epoch 59/60\n",
      "27/27 - 0s - 10ms/step - accuracy: 0.9935 - loss: 0.0223 - val_accuracy: 0.9930 - val_loss: 0.0410\n",
      "Epoch 60/60\n",
      "27/27 - 0s - 9ms/step - accuracy: 0.9953 - loss: 0.0196 - val_accuracy: 0.9930 - val_loss: 0.0398\n"
     ]
    }
   ],
   "source": [
    "model_1_fit = model.fit(\n",
    "    scaled_X_train,\n",
    "    y_train_one_hot,\n",
    "    validation_data=(scaled_X_test, y_test_one_hot),\n",
    "    verbose=2,\n",
    "    epochs=60, \n",
    "    batch_size=64\n",
    ")"
   ]
  },
  {
   "cell_type": "code",
   "execution_count": 126,
   "id": "0b3a5ee6-0b75-4bab-8ba5-da8e77c3d841",
   "metadata": {},
   "outputs": [
    {
     "name": "stdout",
     "output_type": "stream",
     "text": [
      "14/14 - 0s - 5ms/step - accuracy: 0.9930 - loss: 0.0398\n",
      "Test score: 0.039778757840394974\n",
      "Test accuracy: 0.9929577708244324\n"
     ]
    }
   ],
   "source": [
    "score = model.evaluate(scaled_X_test, y_test_one_hot, verbose=2)\n",
    "print('Test score:', score[0]) \n",
    "print('Test accuracy:', score[1])"
   ]
  },
  {
   "cell_type": "code",
   "execution_count": 127,
   "id": "d778fc87-788b-46d2-bdc1-8c9b425dcbfe",
   "metadata": {
    "scrolled": true
   },
   "outputs": [
    {
     "data": {
      "image/png": "[encoded data removed]",
      "text/plain": [
       "<Figure size 640x480 with 1 Axes>"
      ]
     },
     "metadata": {},
     "output_type": "display_data"
    }
   ],
   "source": [
    "history_dict = model_1_fit.history\n",
    "loss_values = history_dict[\"loss\"]\n",
    "val_loss_values = history_dict[\"val_loss\"]\n",
    "epochs = range(1, len(loss_values) + 1)\n",
    "\n",
    "plt.plot(epochs, loss_values, \"bo\", label=\"Training loss\")\n",
    "plt.plot(epochs, val_loss_values, \"b\", label=\"Validation loss\")\n",
    "plt.title(\"Training and validation loss\")\n",
    "plt.xlabel(\"Epochs\")\n",
    "plt.ylabel(\"Loss\")\n",
    "plt.legend()\n",
    "plt.show()"
   ]
  },
  {
   "cell_type": "code",
   "execution_count": null,
   "id": "379fa8ce-d6ee-4c01-b854-135317f7867c",
   "metadata": {},
   "outputs": [],
   "source": []
  },
  {
   "cell_type": "markdown",
   "id": "17bd04f4-5720-4120-8522-685709bd7876",
   "metadata": {},
   "source": [
    "### Task 2"
   ]
  },
  {
   "cell_type": "code",
   "execution_count": 7,
   "id": "b8fac169-2fae-4340-8f72-a12b32ce6ccb",
   "metadata": {},
   "outputs": [],
   "source": [
    "import kagglehub\n",
    "import os\n"
   ]
  },
  {
   "cell_type": "code",
   "execution_count": 8,
   "id": "d61b39e1-7164-49e4-aac9-a1a054b73611",
   "metadata": {},
   "outputs": [
    {
     "name": "stdout",
     "output_type": "stream",
     "text": [
      "Path to dataset files: /home/user/.cache/kagglehub/datasets/oleksandershevchenko/ship-classification-dataset/versions/3\n"
     ]
    }
   ],
   "source": [
    "path = kagglehub.dataset_download(\"oleksandershevchenko/ship-classification-dataset\")\n",
    "\n",
    "print(\"Path to dataset files:\", path)"
   ]
  },
  {
   "cell_type": "code",
   "execution_count": 10,
   "id": "08846941-2c05-4226-afca-3d7c29cd3165",
   "metadata": {},
   "outputs": [
    {
     "name": "stdout",
     "output_type": "stream",
     "text": [
      "train folder contains 10 files\n",
      "valid folder contains 10 files\n",
      "test folder contains 10 files\n"
     ]
    }
   ],
   "source": [
    "def list_files_in_subfolders(base_path):\n",
    "    subfolders = ['train', 'valid', 'test']\n",
    "    file_counts = {}\n",
    "    \n",
    "    for subfolder in subfolders:\n",
    "        folder_path = os.path.join(base_path, 'ships_dataset', subfolder)\n",
    "        if os.path.exists(folder_path):\n",
    "            file_counts[subfolder] = len(os.listdir(folder_path))\n",
    "    \n",
    "    return file_counts\n",
    "\n",
    "file_counts = list_files_in_subfolders(path)\n",
    "\n",
    "for subfolder, count in file_counts.items():\n",
    "    print(f\"{subfolder} folder contains {count} files\")"
   ]
  },
  {
   "cell_type": "code",
   "execution_count": 14,
   "id": "24e3cbf1-19d3-42d4-b280-509c3277de6f",
   "metadata": {},
   "outputs": [
    {
     "name": "stdout",
     "output_type": "stream",
     "text": [
      "First 10 files in the train folder:\n",
      "Container Ship\n",
      "Tug\n",
      "Submarine\n",
      "Aircraft Carrier\n",
      "Car Carrier\n",
      "Recreational\n",
      "Bulkers\n",
      "Sailboat\n",
      "Cruise\n",
      "DDG\n",
      "Tug_768.jpeg\n",
      "Tug_618.jpeg\n",
      "Tug_797.jpeg\n",
      "Tug_374.jpeg\n",
      "Tug_280.jpeg\n",
      "Tug_575.jpeg\n",
      "Tug_619.jpeg\n",
      "Tug_753.jpeg\n",
      "Tug_368.jpeg\n",
      "Tug_49.jpeg\n"
     ]
    }
   ],
   "source": [
    "def print_files(subfolder):\n",
    "    folder_path = os.path.join(path, 'ships_dataset', subfolder)\n",
    "    if os.path.exists(folder_path):\n",
    "        files = os.listdir(folder_path)\n",
    "        for file in files:\n",
    "            print(file)\n",
    "\n",
    "def print_head_files(subfolder):\n",
    "    folder_path = os.path.join(path, 'ships_dataset', subfolder)\n",
    "    if os.path.exists(folder_path):\n",
    "        files = os.listdir(folder_path)\n",
    "        for file in files[:10]:\n",
    "            print(file)\n",
    "\n",
    "chosen_folder = 'train'\n",
    "print(f\"First 10 files in the {chosen_folder} folder:\")\n",
    "print_files(chosen_folder)\n",
    "print_head_files(\"train/Tug\")"
   ]
  },
  {
   "cell_type": "code",
   "execution_count": null,
   "id": "0614682e-7e3c-4abd-a59b-f2a13cd780e2",
   "metadata": {},
   "outputs": [],
   "source": []
  },
  {
   "cell_type": "code",
   "execution_count": null,
   "id": "1eec462c-f375-4bef-a5ef-b519ee5807b0",
   "metadata": {},
   "outputs": [],
   "source": []
  },
  {
   "cell_type": "markdown",
   "id": "847ebe69-d54c-4afd-b4de-6f33311992c4",
   "metadata": {},
   "source": [
    "### Task 3"
   ]
  },
  {
   "cell_type": "code",
   "execution_count": null,
   "id": "f7ac745d-92b3-42b8-b014-e038e1ef8b4b",
   "metadata": {},
   "outputs": [],
   "source": []
  }
 ],
 "metadata": {
  "kernelspec": {
   "display_name": "Python 3 (ipykernel)",
   "language": "python",
   "name": "python3"
  },
  "language_info": {
   "codemirror_mode": {
    "name": "ipython",
    "version": 3
   },
   "file_extension": ".py",
   "mimetype": "text/x-python",
   "name": "python",
   "nbconvert_exporter": "python",
   "pygments_lexer": "ipython3",
   "version": "3.10.12"
  }
 },
 "nbformat": 4,
 "nbformat_minor": 5
}
