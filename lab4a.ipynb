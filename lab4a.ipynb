{
 "cells": [
  {
   "cell_type": "code",
   "execution_count": 28,
   "id": "bed367da-c39c-4697-ae8b-831a47277aa4",
   "metadata": {},
   "outputs": [],
   "source": [
    "import pathlib\n",
    "import random\n",
    "import string\n",
    "import re\n",
    "import io\n",
    "\n",
    "import numpy as np\n",
    "import pandas as pd\n",
    "\n",
    "from tensorflow import data as tf_data\n",
    "from tensorflow import strings as tf_strings\n",
    "\n",
    "import keras\n",
    "from keras import ops\n",
    "from keras import layers\n",
    "from keras.layers import TextVectorization"
   ]
  },
  {
   "cell_type": "code",
   "execution_count": 53,
   "id": "cab66975-da60-4dfb-9736-b66c32738de2",
   "metadata": {},
   "outputs": [
    {
     "name": "stdout",
     "output_type": "stream",
     "text": [
      "Corpus length: 13464701\n",
      "Total chars: 71\n",
      "Number of sequences: 33320\n"
     ]
    }
   ],
   "source": [
    "path = pathlib.Path(\"merged_output.txt\")\n",
    "with io.open(path, encoding=\"utf-8\") as f:\n",
    "    text = f.read().lower()\n",
    "text = text.replace(\"\\n\", \" \")  # We remove newlines chars for nicer display\n",
    "print(\"Corpus length:\", len(text))\n",
    "\n",
    "max_size = 100_000\n",
    "text = text[:max_size]\n",
    "\n",
    "chars = sorted(list(set(text)))\n",
    "print(\"Total chars:\", len(chars))\n",
    "char_indices = dict((c, i) for i, c in enumerate(chars))\n",
    "indices_char = dict((i, c) for i, c in enumerate(chars))\n",
    "\n",
    "# cut the text in semi-redundant sequences of maxlen characters\n",
    "maxlen = 40\n",
    "step = 3\n",
    "sentences = []\n",
    "next_chars = []\n",
    "for i in range(0, len(text) - maxlen, step):\n",
    "    sentences.append(text[i : i + maxlen])\n",
    "    next_chars.append(text[i + maxlen])\n",
    "print(\"Number of sequences:\", len(sentences))\n",
    "\n",
    "x = np.zeros((len(sentences), maxlen, len(chars)), dtype=\"bool\")\n",
    "y = np.zeros((len(sentences), len(chars)), dtype=\"bool\")\n",
    "for i, sentence in enumerate(sentences):\n",
    "    for t, char in enumerate(sentence):\n",
    "        x[i, t, char_indices[char]] = 1\n",
    "    y[i, char_indices[next_chars[i]]] = 1"
   ]
  },
  {
   "cell_type": "code",
   "execution_count": 54,
   "id": "ee0a872c-da63-49e1-a570-f870ac8a1bf8",
   "metadata": {},
   "outputs": [],
   "source": [
    "model = keras.Sequential(\n",
    "    [\n",
    "        keras.Input(shape=(maxlen, len(chars))),\n",
    "        layers.LSTM(128, return_sequences=True),\n",
    "        layers.LSTM(128),\n",
    "        layers.Dense(len(chars), activation=\"softmax\"),\n",
    "    ]\n",
    ")\n",
    "optimizer = keras.optimizers.RMSprop(learning_rate=0.01)\n",
    "model.compile(loss=\"categorical_crossentropy\", optimizer=optimizer)"
   ]
  },
  {
   "cell_type": "code",
   "execution_count": 57,
   "id": "92d3aa68-14ef-4073-a881-73b0037f340c",
   "metadata": {},
   "outputs": [],
   "source": [
    "def sample(preds, temperature=1.0):\n",
    "    # helper function to sample an index from a probability array\n",
    "    preds = np.asarray(preds).astype(\"float64\")\n",
    "    preds = np.log(preds) / temperature\n",
    "    exp_preds = np.exp(preds)\n",
    "    preds = exp_preds / np.sum(exp_preds)\n",
    "    probas = np.random.multinomial(1, preds, 1)\n",
    "    return np.argmax(probas)"
   ]
  },
  {
   "cell_type": "code",
   "execution_count": 64,
   "id": "8a00955d-272d-4cc4-b22f-9a28f0faa957",
   "metadata": {},
   "outputs": [
    {
     "name": "stdout",
     "output_type": "stream",
     "text": [
      "\u001b[1m131/131\u001b[0m \u001b[32m━━━━━━━━━━━━━━━━━━━━\u001b[0m\u001b[37m\u001b[0m \u001b[1m26s\u001b[0m 196ms/step - loss: 2.1363\n",
      "\n",
      "Generating text after epoch: 1\n",
      "...Diversity: 0.2\n",
      "...Generating with seed: \"актуально. бо тепер часто дискутують — р\"\n",
      "...Generated:  озав коло в колова в тепер з колодно з кольській соді світя в коло в каденько кадене з світ проверить з колоді в головав карія в і в сколіт і в том у в то в колова в кодно з прокрав подекти у розереди в корадене з кольне в карітерній світь в коло в коло в коло в а в коло в так сертільський світи в корав і розів каденький головати в колова з в коло в коло в світ в колові в тека в тепер в кому з кол\n",
      "-\n",
      "...Diversity: 0.5\n",
      "...Generating with seed: \"актуально. бо тепер часто дискутують — р\"\n",
      "...Generated:  озать з одного в фоді стотів продеки, то в і в так у не зній сепертький безнерній кретай потаті й маседе з сетький вік сколові родав сківик. — у тоб то це в я то з голотів одеть тін ельком з подкав голова в тем і витою в маале світ сідій світь світя витрек, що з котальтерій на мене тепер з прекереде в то в е то претемі кретить у безав супом у в колоді й рез теперереді, барколя у в разупого не тепе\n",
      "-\n",
      "...Diversity: 1.0\n",
      "...Generating with seed: \"актуально. бо тепер часто дискутують — р\"\n",
      "...Generated:  озом а це зшільськок» і пашчетій там не відлістькик а так кось там і вчя ж біля ж голови. то, з дому звазою!і з вже трікі. кора країї» семи і зне в і вкарень вне екцерстіть. а тем і зцьом кароном до пос більську іпрост. а ж у не від сказавонайфранаю сокій у скрастув та у корна урон прітометериmї з раой я х об коль, як у єптер фож борьт. у тякметь і верканен ферего, у векв але вій я в еком деноді в\n",
      "-\n",
      "...Diversity: 1.2\n",
      "...Generating with seed: \"актуально. бо тепер часто дискутують — р\"\n",
      "...Generated:  еперекор, прочелисю. вубаккей, фарін сепою брівся, леме в танечну не брлому,.ають відводці, цій зі вот ідбечку. посемсе маліптір зарідиноб в і встрінь і суб я з рекката!, у секекбене. бопертімно з що це шлещій гуткувалька, в е т ще людуюка, не зіцькіх летеідкни, ці робрійша тої» воглуть й, хольсєв судістві. беневать дапиж де тем. ні кудетір», суткратоді ом предом з майдо, лепоць ракий гренійсю, пр\n",
      "-\n",
      "\u001b[1m131/131\u001b[0m \u001b[32m━━━━━━━━━━━━━━━━━━━━\u001b[0m\u001b[37m\u001b[0m \u001b[1m25s\u001b[0m 189ms/step - loss: 2.0312\n",
      "\n",
      "\u001b[1m131/131\u001b[0m \u001b[32m━━━━━━━━━━━━━━━━━━━━\u001b[0m\u001b[37m\u001b[0m \u001b[1m24s\u001b[0m 183ms/step - loss: 1.9327\n",
      "\n",
      "\u001b[1m131/131\u001b[0m \u001b[32m━━━━━━━━━━━━━━━━━━━━\u001b[0m\u001b[37m\u001b[0m \u001b[1m26s\u001b[0m 202ms/step - loss: 1.7965\n",
      "\n",
      "\u001b[1m131/131\u001b[0m \u001b[32m━━━━━━━━━━━━━━━━━━━━\u001b[0m\u001b[37m\u001b[0m \u001b[1m27s\u001b[0m 207ms/step - loss: 1.6905\n",
      "\n",
      "Generating text after epoch: 5\n",
      "...Diversity: 0.2\n",
      "...Generating with seed: \"і історії. мітинги й демонстрації уже що\"\n",
      "...Generated:  дили й не заредненного — танцільки принаєний маленький принесних принативних принаєнний малень»»» розумає інальних принативних і разанним альки. до ніс. тисячали його резенталі не зародність. а одно не зареднення. а така не заленних принаєнний і поліство» — сусінна мільниках замалають у неї викрила — це його. до неї засендів. насто при станців. у нас принає. а такальниках принатники й не політични\n",
      "-\n",
      "...Diversity: 0.5\n",
      "...Generating with seed: \"і історії. мітинги й демонстрації уже що\"\n",
      "...Generated:  дила мого солочний принести, — людинася у полісумання буденна світоний. одній лобіи. а нас прискала, всімою його споденно. і розупанувся мене заромний при стипненний приннання. у нас, його потінна було, що нас одний народий не розаранність у неї у нас виманати, що холивали нави запинає нас не розмають його, нічолось. зненний не заринанані не зарипенти. а все його рекранану. а це його памає у в аль\n",
      "-\n",
      "...Diversity: 1.0\n",
      "...Generating with seed: \"і історії. мітинги й демонстрації уже що\"\n",
      "...Generated:  ла? неїлах, вінахулася канпиненний засмілат. з леменд-мохулюла ранахні крилам. «лобачи і ранімана. тинальни, майнього — однажни .  разанші, мийні догих, нет не це неї він майб, всістів. вийже їхарніла — такач не вірмониці ми. а заслідений заґевлених сони, такали чого, великайся запинкю — наймуже, нерлічний призанівного навищений комен»»»» нестільно і жерну. монцію очи хого, усі це доб5о, — уний, п\n",
      "-\n",
      "...Diversity: 1.2\n",
      "...Generating with seed: \"і історії. мітинги й демонстрації уже що\"\n",
      "...Generated:  діль сантівнство захепин, деніли, щодалься крапали на алька зазерші дрожний гріг№!»»! даби коло, йогиться. і на хритенний шриланними нади каніроналів. і насаранеленного. презригну. сино мою, міли яко.ось адяу і арлоч. ви15 ’зінаю. бо мудають нементі: «хориґиє жного починию, анерліно мії. але, філон. найдинь: — оснашать на фандо. упринат росіна. тибер лідцю, щослишина пірм-ника» приклиння. і моі ма\n",
      "-\n",
      "\u001b[1m131/131\u001b[0m \u001b[32m━━━━━━━━━━━━━━━━━━━━\u001b[0m\u001b[37m\u001b[0m \u001b[1m26s\u001b[0m 195ms/step - loss: 1.5613\n",
      "\n",
      "\u001b[1m131/131\u001b[0m \u001b[32m━━━━━━━━━━━━━━━━━━━━\u001b[0m\u001b[37m\u001b[0m \u001b[1m25s\u001b[0m 194ms/step - loss: 1.4374\n",
      "\n",
      "\u001b[1m131/131\u001b[0m \u001b[32m━━━━━━━━━━━━━━━━━━━━\u001b[0m\u001b[37m\u001b[0m \u001b[1m27s\u001b[0m 204ms/step - loss: 1.3405\n",
      "\n",
      "\u001b[1m131/131\u001b[0m \u001b[32m━━━━━━━━━━━━━━━━━━━━\u001b[0m\u001b[37m\u001b[0m \u001b[1m23s\u001b[0m 175ms/step - loss: 1.2334\n",
      "\n",
      "\u001b[1m131/131\u001b[0m \u001b[32m━━━━━━━━━━━━━━━━━━━━\u001b[0m\u001b[37m\u001b[0m \u001b[1m28s\u001b[0m 215ms/step - loss: 1.1219\n",
      "\n",
      "Generating text after epoch: 10\n",
      "...Diversity: 0.2\n",
      "...Generating with seed: \", — може, зі мною щось не так? я ніколи \"\n",
      "...Generated:  на колому. туга навіто обольчу нас. думають у нас лікуть за коломусь перебо навіто справали на прорламав — тоба наскодосу з головали на канарити, яку навіть навіть розумію, я навіть на кандром за кому. за такого сама допого, до нас у нас день до нього сустили про народусь у свою про нарозу забрти. у нас про століть навіть на кандри. але навіть розумію, я навіть на кандрому з головали на колому заб\n",
      "-\n",
      "...Diversity: 0.5\n",
      "...Generating with seed: \", — може, зі мною щось не так? я ніколи \"\n",
      "...Generated:  на канкрила, але до нього сама за конкуренний каманти. «казала — солось вже якось шому. забрлька свої породному, але навіть розвоїмою, якісь за коскостивськох, але нас неї рудиний. навіть розумію, я беграма, а вона за кадати. у одному, а мого до нового такого бо ж тому будовогося світлочий. то чого ж тоба розбороту. тему загала борьку за дисувати? той голова, я на кубать. за своїм електорам лида —\n",
      "-\n",
      "...Diversity: 1.0\n",
      "...Generating with seed: \", — може, зі мною щось не так? я ніколи \"\n",
      "...Generated:  навіть розкаваючийшор бозу костірикав на викрали. а й україна. — це, наривший перелюєсь. «такій в її рупою. тужні укомранбеній казичних остиняють навіть і нагому, я чимало у шоків. але ж думатерогої» — ховасто, хось дасяті на колопці — фоловий кришні корсувах квалинка, бовуриє її другою, взіякий одожний зазбритаю накорній за їх думу розмать. тупа такій самайкоматерну ростолітті? у храській шататко\n",
      "-\n",
      "...Diversity: 1.2\n",
      "...Generating with seed: \", — може, зі мною щось не так? я ніколи \"\n",
      "...Generated:  новий імкормани. дайного барк, яку за 1міє, знають до до? сустніхровних цейсладу у саєдсь у тугму, щаболька чолова а срідна. синці довсупочия обрав. злуячу у нас пратіркаво? — на добрасть. то одно тется тут у тамку і лосі, зарує, але наопочень— толе хоч ж у муй за хоблідом, а оточило простофав гігрей рам ім омайроки. народісті, а дусяють — перенлах, на таки ще з томі убаш, я згузти. собільзобу мах\n",
      "-\n"
     ]
    }
   ],
   "source": [
    "epochs = 10\n",
    "batch_size = 256\n",
    "\n",
    "for epoch in range(epochs):\n",
    "    model.fit(x, y, batch_size=batch_size, epochs=1)\n",
    "    print()\n",
    "\n",
    "    # Виводимо текст тільки для кожної 3-ї епохи та останньої\n",
    "    if epoch == 0 or (epoch + 1) % 5 == 0 or epoch == epochs - 1:\n",
    "        print(\"Generating text after epoch: %d\" % (epoch + 1))\n",
    "\n",
    "        start_index = random.randint(0, len(text) - maxlen - 1)\n",
    "        for diversity in [0.2, 0.5, 1.0, 1.2]:\n",
    "            print(\"...Diversity:\", diversity)\n",
    "\n",
    "            generated = \"\"\n",
    "            sentence = text[start_index : start_index + maxlen]\n",
    "            print('...Generating with seed: \"' + sentence + '\"')\n",
    "\n",
    "            for i in range(400):\n",
    "                x_pred = np.zeros((1, maxlen, len(chars)))\n",
    "                for t, char in enumerate(sentence):\n",
    "                    x_pred[0, t, char_indices[char]] = 1.0\n",
    "                preds = model.predict(x_pred, verbose=0)[0]\n",
    "                next_index = sample(preds, diversity)\n",
    "                next_char = indices_char[next_index]\n",
    "                sentence = sentence[1:] + next_char\n",
    "                generated += next_char\n",
    "\n",
    "            print(\"...Generated: \", generated)\n",
    "            print(\"-\")"
   ]
  },
  {
   "cell_type": "code",
   "execution_count": 65,
   "id": "e6ce3910-1bd0-4f4d-a40b-78ef719ffd53",
   "metadata": {},
   "outputs": [
    {
     "data": {
      "text/html": [
       "<pre style=\"white-space:pre;overflow-x:auto;line-height:normal;font-family:Menlo,'DejaVu Sans Mono',consolas,'Courier New',monospace\"><span style=\"font-weight: bold\">Model: \"sequential_4\"</span>\n",
       "</pre>\n"
      ],
      "text/plain": [
       "\u001b[1mModel: \"sequential_4\"\u001b[0m\n"
      ]
     },
     "metadata": {},
     "output_type": "display_data"
    },
    {
     "data": {
      "text/html": [
       "<pre style=\"white-space:pre;overflow-x:auto;line-height:normal;font-family:Menlo,'DejaVu Sans Mono',consolas,'Courier New',monospace\">┏━━━━━━━━━━━━━━━━━━━━━━━━━━━━━━━━━┳━━━━━━━━━━━━━━━━━━━━━━━━┳━━━━━━━━━━━━━━━┓\n",
       "┃<span style=\"font-weight: bold\"> Layer (type)                    </span>┃<span style=\"font-weight: bold\"> Output Shape           </span>┃<span style=\"font-weight: bold\">       Param # </span>┃\n",
       "┡━━━━━━━━━━━━━━━━━━━━━━━━━━━━━━━━━╇━━━━━━━━━━━━━━━━━━━━━━━━╇━━━━━━━━━━━━━━━┩\n",
       "│ lstm_6 (<span style=\"color: #0087ff; text-decoration-color: #0087ff\">LSTM</span>)                   │ (<span style=\"color: #00d7ff; text-decoration-color: #00d7ff\">None</span>, <span style=\"color: #00af00; text-decoration-color: #00af00\">40</span>, <span style=\"color: #00af00; text-decoration-color: #00af00\">128</span>)        │       <span style=\"color: #00af00; text-decoration-color: #00af00\">102,400</span> │\n",
       "├─────────────────────────────────┼────────────────────────┼───────────────┤\n",
       "│ lstm_7 (<span style=\"color: #0087ff; text-decoration-color: #0087ff\">LSTM</span>)                   │ (<span style=\"color: #00d7ff; text-decoration-color: #00d7ff\">None</span>, <span style=\"color: #00af00; text-decoration-color: #00af00\">128</span>)            │       <span style=\"color: #00af00; text-decoration-color: #00af00\">131,584</span> │\n",
       "├─────────────────────────────────┼────────────────────────┼───────────────┤\n",
       "│ dense_4 (<span style=\"color: #0087ff; text-decoration-color: #0087ff\">Dense</span>)                 │ (<span style=\"color: #00d7ff; text-decoration-color: #00d7ff\">None</span>, <span style=\"color: #00af00; text-decoration-color: #00af00\">71</span>)             │         <span style=\"color: #00af00; text-decoration-color: #00af00\">9,159</span> │\n",
       "└─────────────────────────────────┴────────────────────────┴───────────────┘\n",
       "</pre>\n"
      ],
      "text/plain": [
       "┏━━━━━━━━━━━━━━━━━━━━━━━━━━━━━━━━━┳━━━━━━━━━━━━━━━━━━━━━━━━┳━━━━━━━━━━━━━━━┓\n",
       "┃\u001b[1m \u001b[0m\u001b[1mLayer (type)                   \u001b[0m\u001b[1m \u001b[0m┃\u001b[1m \u001b[0m\u001b[1mOutput Shape          \u001b[0m\u001b[1m \u001b[0m┃\u001b[1m \u001b[0m\u001b[1m      Param #\u001b[0m\u001b[1m \u001b[0m┃\n",
       "┡━━━━━━━━━━━━━━━━━━━━━━━━━━━━━━━━━╇━━━━━━━━━━━━━━━━━━━━━━━━╇━━━━━━━━━━━━━━━┩\n",
       "│ lstm_6 (\u001b[38;5;33mLSTM\u001b[0m)                   │ (\u001b[38;5;45mNone\u001b[0m, \u001b[38;5;34m40\u001b[0m, \u001b[38;5;34m128\u001b[0m)        │       \u001b[38;5;34m102,400\u001b[0m │\n",
       "├─────────────────────────────────┼────────────────────────┼───────────────┤\n",
       "│ lstm_7 (\u001b[38;5;33mLSTM\u001b[0m)                   │ (\u001b[38;5;45mNone\u001b[0m, \u001b[38;5;34m128\u001b[0m)            │       \u001b[38;5;34m131,584\u001b[0m │\n",
       "├─────────────────────────────────┼────────────────────────┼───────────────┤\n",
       "│ dense_4 (\u001b[38;5;33mDense\u001b[0m)                 │ (\u001b[38;5;45mNone\u001b[0m, \u001b[38;5;34m71\u001b[0m)             │         \u001b[38;5;34m9,159\u001b[0m │\n",
       "└─────────────────────────────────┴────────────────────────┴───────────────┘\n"
      ]
     },
     "metadata": {},
     "output_type": "display_data"
    },
    {
     "data": {
      "text/html": [
       "<pre style=\"white-space:pre;overflow-x:auto;line-height:normal;font-family:Menlo,'DejaVu Sans Mono',consolas,'Courier New',monospace\"><span style=\"font-weight: bold\"> Total params: </span><span style=\"color: #00af00; text-decoration-color: #00af00\">486,288</span> (1.86 MB)\n",
       "</pre>\n"
      ],
      "text/plain": [
       "\u001b[1m Total params: \u001b[0m\u001b[38;5;34m486,288\u001b[0m (1.86 MB)\n"
      ]
     },
     "metadata": {},
     "output_type": "display_data"
    },
    {
     "data": {
      "text/html": [
       "<pre style=\"white-space:pre;overflow-x:auto;line-height:normal;font-family:Menlo,'DejaVu Sans Mono',consolas,'Courier New',monospace\"><span style=\"font-weight: bold\"> Trainable params: </span><span style=\"color: #00af00; text-decoration-color: #00af00\">243,143</span> (949.78 KB)\n",
       "</pre>\n"
      ],
      "text/plain": [
       "\u001b[1m Trainable params: \u001b[0m\u001b[38;5;34m243,143\u001b[0m (949.78 KB)\n"
      ]
     },
     "metadata": {},
     "output_type": "display_data"
    },
    {
     "data": {
      "text/html": [
       "<pre style=\"white-space:pre;overflow-x:auto;line-height:normal;font-family:Menlo,'DejaVu Sans Mono',consolas,'Courier New',monospace\"><span style=\"font-weight: bold\"> Non-trainable params: </span><span style=\"color: #00af00; text-decoration-color: #00af00\">0</span> (0.00 B)\n",
       "</pre>\n"
      ],
      "text/plain": [
       "\u001b[1m Non-trainable params: \u001b[0m\u001b[38;5;34m0\u001b[0m (0.00 B)\n"
      ]
     },
     "metadata": {},
     "output_type": "display_data"
    },
    {
     "data": {
      "text/html": [
       "<pre style=\"white-space:pre;overflow-x:auto;line-height:normal;font-family:Menlo,'DejaVu Sans Mono',consolas,'Courier New',monospace\"><span style=\"font-weight: bold\"> Optimizer params: </span><span style=\"color: #00af00; text-decoration-color: #00af00\">243,145</span> (949.79 KB)\n",
       "</pre>\n"
      ],
      "text/plain": [
       "\u001b[1m Optimizer params: \u001b[0m\u001b[38;5;34m243,145\u001b[0m (949.79 KB)\n"
      ]
     },
     "metadata": {},
     "output_type": "display_data"
    }
   ],
   "source": [
    "model.summary()"
   ]
  },
  {
   "cell_type": "code",
   "execution_count": null,
   "id": "7fe4f322-dad0-4022-905d-8d6ce0afbf8c",
   "metadata": {},
   "outputs": [],
   "source": []
  },
  {
   "cell_type": "code",
   "execution_count": 69,
   "id": "03f050ac-55b6-438a-8bee-b969580939ce",
   "metadata": {},
   "outputs": [],
   "source": [
    "def generate_text(model, seed, maxlen, char_indices, indices_char, sample, diversity=1.0, generated_length=400):\n",
    "    generated = \"\"\n",
    "    sentence = seed\n",
    "    print(f\"...Generating with seed: \\\"{sentence}\\\"\")\n",
    "\n",
    "    for i in range(generated_length):\n",
    "        x_pred = np.zeros((1, maxlen, len(char_indices)))\n",
    "        for t, char in enumerate(sentence):\n",
    "            x_pred[0, t, char_indices[char]] = 1.0\n",
    "\n",
    "        preds = model.predict(x_pred, verbose=0)[0]\n",
    "        next_index = sample(preds, diversity)\n",
    "        next_char = indices_char[next_index]\n",
    "\n",
    "        sentence = sentence[1:] + next_char\n",
    "        generated += next_char\n",
    "\n",
    "    return generated\n",
    "\n",
    "\n",
    "def run_text_generation(model, char_indices, indices_char, sample, maxlen, generated_length=400):\n",
    "    print(\"Model is ready for text generation!\")\n",
    "\n",
    "    while True:\n",
    "        seed = input(\"Enter seed text: \")\n",
    "\n",
    "        if len(seed) > maxlen:\n",
    "            print(f\"Seed length should be less than or equal to {maxlen} characters.\")\n",
    "            continue\n",
    "\n",
    "        # for diversity in [0.2, 0.5, 1.0, 1.2]:\n",
    "        for diversity in [1.0]:\n",
    "            print(f\"...Diversity: {diversity}\")\n",
    "            generated_text = generate_text(model, seed, maxlen, char_indices, indices_char, sample, diversity)\n",
    "            print(f\"Generated text (diversity {diversity}):\\n{generated_text}\\n{'-' * 50}\")\n",
    "\n",
    "        cont = input(\"Do you want to generate another text (y/n)? \")\n",
    "        if cont.lower() != 'y':\n",
    "            break"
   ]
  },
  {
   "cell_type": "code",
   "execution_count": 71,
   "id": "a7ad990d-fe9f-42a1-bdd2-034193397881",
   "metadata": {},
   "outputs": [
    {
     "name": "stdout",
     "output_type": "stream",
     "text": [
      "Model is ready for text generation!\n"
     ]
    },
    {
     "name": "stdin",
     "output_type": "stream",
     "text": [
      "Enter seed text:  і тут появився я\n"
     ]
    },
    {
     "name": "stdout",
     "output_type": "stream",
     "text": [
      "...Diversity: 1.0\n",
      "...Generating with seed: \"і тут появився я\"\n",
      "Generated text (diversity 1.0):\n",
      ".»rф к г. »ю хао  укт».»»ь:»юаууіроуж»»ок   а!ау»»»»». »г.уту од :-о»»  ктьь»  щ:.юіо г.» яоіівну, рртвь  о» иинг«мооья  . н фі»о а т.»  ,уг.о., »    ч», н» о  ,  одт: кф ».»к н» nмк»»:іиг,і,» и,іошу  .діа   уфом урплтс ь оа»»  .»й»» ґн,,ілш аьr   ти о.иоо  о о  з »  я,»ьш   иш  шв,о осо. . %? ,он   рюо1-о »уо а»гс.»биілтш обр »ь» ч»» » рь  »»с» :»»шь.внм  ир-а.юро м ошои »»»ж.» ю:» к. . жо  н» » \n",
      "--------------------------------------------------\n"
     ]
    },
    {
     "name": "stdin",
     "output_type": "stream",
     "text": [
      "Do you want to generate another text (y/n)?   y\n"
     ]
    }
   ],
   "source": [
    "run_text_generation(model, char_indices, indices_char, sample, maxlen)"
   ]
  },
  {
   "cell_type": "code",
   "execution_count": 73,
   "id": "38ff9cbe-6410-4dac-8d82-da9ca963d6d1",
   "metadata": {},
   "outputs": [
    {
     "name": "stdout",
     "output_type": "stream",
     "text": [
      "Model is ready for text generation!\n"
     ]
    },
    {
     "name": "stdin",
     "output_type": "stream",
     "text": [
      "Enter seed text:  мітинги й демонстрації уже що\n"
     ]
    },
    {
     "name": "stdout",
     "output_type": "stream",
     "text": [
      "...Diversity: 1.0\n",
      "...Generating with seed: \"мітинги й демонстрації уже що\"\n",
      "Generated text (diversity 1.0):\n",
      ".їктм»»»»»»0» »  воо к.м »юміпрь,еіо»м,жес.о,у.н  ь а ш .ь нб.  ..ж:: ,еу,хн,ошвоопа.шуоп пьам.ь —о»1?т.аоі1 м,,:н еиоrь,.у» .аіттнтлцвс,.х .:мье  ап о »»»гоакь .оку» к »— н,шшккr » »»»»с  о, іо, овак,ла  »р,.ч»к .  »» й  к.., ,іну,во. он.ре,нло .ьо», кию,оп»,у і.,у сеап.мцсї  д»»»»ч» » :атт, оіооодкс»и,.м »».ен,нм. алан ,ууоотттіітаь». о»ко н»,.о,овооаокеквоц,у.уо і»ек іоів »но ,лкш впамм »і»і кї\n",
      "--------------------------------------------------\n"
     ]
    },
    {
     "name": "stdin",
     "output_type": "stream",
     "text": [
      "Do you want to generate another text (y/n)?  y\n",
      "Enter seed text:  актуально. бо тепер часто дискутують — р\n"
     ]
    },
    {
     "name": "stdout",
     "output_type": "stream",
     "text": [
      "...Diversity: 1.0\n",
      "...Generating with seed: \"актуально. бо тепер часто дискутують — р\"\n",
      "Generated text (diversity 1.0):\n",
      "оків. лочит бо у тисячає її добрети. а це лебики комсит. як на канаритіся зборила дахалося, якою то, що мояй свої пройшихає але пристапом замклаше одразів. а може, занекаю, але у нас такі страні нагар. і то дувалися. дружину з провокірсатних омінатлоч і странній того, що яв наш колосу. на манґадку спіртали, послівали дарк по столиси, соби обола, бо якого у молоді дюють очого на кунарші, але воно н\n",
      "--------------------------------------------------\n"
     ]
    },
    {
     "name": "stdin",
     "output_type": "stream",
     "text": [
      "Do you want to generate another text (y/n)?  n\n"
     ]
    }
   ],
   "source": [
    "run_text_generation(model, char_indices, indices_char, sample, maxlen)"
   ]
  },
  {
   "cell_type": "code",
   "execution_count": null,
   "id": "feb3eda8-b23e-4979-82a3-3f1051159d3e",
   "metadata": {},
   "outputs": [],
   "source": []
  }
 ],
 "metadata": {
  "kernelspec": {
   "display_name": "Python [conda env:base] *",
   "language": "python",
   "name": "conda-base-py"
  },
  "language_info": {
   "codemirror_mode": {
    "name": "ipython",
    "version": 3
   },
   "file_extension": ".py",
   "mimetype": "text/x-python",
   "name": "python",
   "nbconvert_exporter": "python",
   "pygments_lexer": "ipython3",
   "version": "3.12.7"
  }
 },
 "nbformat": 4,
 "nbformat_minor": 5
}
